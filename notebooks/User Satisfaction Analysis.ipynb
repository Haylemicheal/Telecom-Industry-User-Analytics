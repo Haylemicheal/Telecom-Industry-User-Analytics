{
 "cells": [
  {
   "cell_type": "code",
   "execution_count": 23,
   "id": "7077f602",
   "metadata": {},
   "outputs": [],
   "source": [
    "import sys, os\n",
    "sys.path.append(os.path.abspath(os.path.join('..')))"
   ]
  },
  {
   "cell_type": "code",
   "execution_count": 24,
   "id": "bb9deb86",
   "metadata": {},
   "outputs": [],
   "source": [
    "from scripts.dataloader import DataLoader\n",
    "from scripts.data_understanding import DataUnderstanding\n",
    "from scripts.visualization import Visualization"
   ]
  },
  {
   "cell_type": "code",
   "execution_count": 25,
   "id": "b3cf391e",
   "metadata": {},
   "outputs": [],
   "source": [
    "dl = DataLoader('../data', 'user_engagment_data.csv')\n",
    "user_engagment = dl.read_csv()\n",
    "user_engagment = user_engagment.sort_values(by=['MSISDN/Number'], ascending=True)"
   ]
  },
  {
   "cell_type": "code",
   "execution_count": 26,
   "id": "3653160d",
   "metadata": {},
   "outputs": [],
   "source": [
    "dl = DataLoader('../data', 'user_experiance_data.csv')\n",
    "user_experiance = dl.read_csv()\n",
    "user_experiance = user_experiance.sort_values(by=['MSISDN/Number'], ascending=True)"
   ]
  },
  {
   "cell_type": "code",
   "execution_count": 27,
   "id": "ee7d8013",
   "metadata": {},
   "outputs": [
    {
     "data": {
      "text/html": [
       "<div>\n",
       "<style scoped>\n",
       "    .dataframe tbody tr th:only-of-type {\n",
       "        vertical-align: middle;\n",
       "    }\n",
       "\n",
       "    .dataframe tbody tr th {\n",
       "        vertical-align: top;\n",
       "    }\n",
       "\n",
       "    .dataframe thead th {\n",
       "        text-align: right;\n",
       "    }\n",
       "</style>\n",
       "<table border=\"1\" class=\"dataframe\">\n",
       "  <thead>\n",
       "    <tr style=\"text-align: right;\">\n",
       "      <th></th>\n",
       "      <th>session_traffic(bytes)</th>\n",
       "      <th>session_duration(ms)</th>\n",
       "      <th>session_freq</th>\n",
       "      <th>cluster</th>\n",
       "      <th>engagment_score</th>\n",
       "      <th>MSISDN/Number</th>\n",
       "    </tr>\n",
       "  </thead>\n",
       "  <tbody>\n",
       "    <tr>\n",
       "      <th>24229</th>\n",
       "      <td>8.786906e+08</td>\n",
       "      <td>116720.0</td>\n",
       "      <td>1</td>\n",
       "      <td>2</td>\n",
       "      <td>0.001961</td>\n",
       "      <td>3.360100e+10</td>\n",
       "    </tr>\n",
       "    <tr>\n",
       "      <th>99191</th>\n",
       "      <td>1.568596e+08</td>\n",
       "      <td>181230.0</td>\n",
       "      <td>1</td>\n",
       "      <td>1</td>\n",
       "      <td>0.000938</td>\n",
       "      <td>3.360100e+10</td>\n",
       "    </tr>\n",
       "    <tr>\n",
       "      <th>55784</th>\n",
       "      <td>5.959665e+08</td>\n",
       "      <td>134969.0</td>\n",
       "      <td>1</td>\n",
       "      <td>2</td>\n",
       "      <td>0.001867</td>\n",
       "      <td>3.360100e+10</td>\n",
       "    </tr>\n",
       "    <tr>\n",
       "      <th>73840</th>\n",
       "      <td>4.223207e+08</td>\n",
       "      <td>49878.0</td>\n",
       "      <td>1</td>\n",
       "      <td>2</td>\n",
       "      <td>0.001975</td>\n",
       "      <td>3.360101e+10</td>\n",
       "    </tr>\n",
       "    <tr>\n",
       "      <th>7414</th>\n",
       "      <td>1.457411e+09</td>\n",
       "      <td>37104.0</td>\n",
       "      <td>2</td>\n",
       "      <td>2</td>\n",
       "      <td>0.002068</td>\n",
       "      <td>3.360101e+10</td>\n",
       "    </tr>\n",
       "  </tbody>\n",
       "</table>\n",
       "</div>"
      ],
      "text/plain": [
       "       session_traffic(bytes)  session_duration(ms)  session_freq  cluster  \\\n",
       "24229            8.786906e+08              116720.0             1        2   \n",
       "99191            1.568596e+08              181230.0             1        1   \n",
       "55784            5.959665e+08              134969.0             1        2   \n",
       "73840            4.223207e+08               49878.0             1        2   \n",
       "7414             1.457411e+09               37104.0             2        2   \n",
       "\n",
       "       engagment_score  MSISDN/Number  \n",
       "24229         0.001961   3.360100e+10  \n",
       "99191         0.000938   3.360100e+10  \n",
       "55784         0.001867   3.360100e+10  \n",
       "73840         0.001975   3.360101e+10  \n",
       "7414          0.002068   3.360101e+10  "
      ]
     },
     "execution_count": 27,
     "metadata": {},
     "output_type": "execute_result"
    }
   ],
   "source": [
    "user_engagment.head()"
   ]
  },
  {
   "cell_type": "code",
   "execution_count": 28,
   "id": "01830144",
   "metadata": {},
   "outputs": [
    {
     "data": {
      "text/html": [
       "<div>\n",
       "<style scoped>\n",
       "    .dataframe tbody tr th:only-of-type {\n",
       "        vertical-align: middle;\n",
       "    }\n",
       "\n",
       "    .dataframe tbody tr th {\n",
       "        vertical-align: top;\n",
       "    }\n",
       "\n",
       "    .dataframe thead th {\n",
       "        text-align: right;\n",
       "    }\n",
       "</style>\n",
       "<table border=\"1\" class=\"dataframe\">\n",
       "  <thead>\n",
       "    <tr style=\"text-align: right;\">\n",
       "      <th></th>\n",
       "      <th>MSISDN/Number</th>\n",
       "      <th>Avg RTT DL (ms)</th>\n",
       "      <th>Avg RTT UL (ms)</th>\n",
       "      <th>Avg Bearer TP DL (kbps)</th>\n",
       "      <th>Avg Bearer TP UL (kbps)</th>\n",
       "      <th>TCP DL Retrans. Vol (Bytes)</th>\n",
       "      <th>TCP UL Retrans. Vol (Bytes)</th>\n",
       "      <th>Handset Type</th>\n",
       "      <th>experiance_score</th>\n",
       "    </tr>\n",
       "  </thead>\n",
       "  <tbody>\n",
       "    <tr>\n",
       "      <th>41943</th>\n",
       "      <td>3.360100e+10</td>\n",
       "      <td>46.000000</td>\n",
       "      <td>0.0</td>\n",
       "      <td>37.0</td>\n",
       "      <td>39.000000</td>\n",
       "      <td>2.080991e+07</td>\n",
       "      <td>759658.664811</td>\n",
       "      <td>Huawei P20 Lite Huawei Nova 3E</td>\n",
       "      <td>0.000581</td>\n",
       "    </tr>\n",
       "    <tr>\n",
       "      <th>127709</th>\n",
       "      <td>3.360100e+10</td>\n",
       "      <td>30.000000</td>\n",
       "      <td>1.0</td>\n",
       "      <td>48.0</td>\n",
       "      <td>51.000000</td>\n",
       "      <td>2.080991e+07</td>\n",
       "      <td>759658.664811</td>\n",
       "      <td>Apple iPhone 7 (A1778)</td>\n",
       "      <td>0.000581</td>\n",
       "    </tr>\n",
       "    <tr>\n",
       "      <th>134590</th>\n",
       "      <td>3.360100e+10</td>\n",
       "      <td>109.795706</td>\n",
       "      <td>5.0</td>\n",
       "      <td>48.0</td>\n",
       "      <td>49.000000</td>\n",
       "      <td>2.080991e+07</td>\n",
       "      <td>759658.664811</td>\n",
       "      <td>undefined</td>\n",
       "      <td>0.000581</td>\n",
       "    </tr>\n",
       "    <tr>\n",
       "      <th>95551</th>\n",
       "      <td>3.360101e+10</td>\n",
       "      <td>69.000000</td>\n",
       "      <td>15.0</td>\n",
       "      <td>204.0</td>\n",
       "      <td>44.000000</td>\n",
       "      <td>1.066000e+03</td>\n",
       "      <td>759658.664811</td>\n",
       "      <td>Apple iPhone 5S (A1457)</td>\n",
       "      <td>0.000042</td>\n",
       "    </tr>\n",
       "    <tr>\n",
       "      <th>16589</th>\n",
       "      <td>3.360101e+10</td>\n",
       "      <td>86.000000</td>\n",
       "      <td>5.0</td>\n",
       "      <td>40372.0</td>\n",
       "      <td>1770.428647</td>\n",
       "      <td>9.349630e+06</td>\n",
       "      <td>21202.000000</td>\n",
       "      <td>Apple iPhone Se (A1723)</td>\n",
       "      <td>0.000239</td>\n",
       "    </tr>\n",
       "  </tbody>\n",
       "</table>\n",
       "</div>"
      ],
      "text/plain": [
       "        MSISDN/Number  Avg RTT DL (ms)  Avg RTT UL (ms)  \\\n",
       "41943    3.360100e+10        46.000000              0.0   \n",
       "127709   3.360100e+10        30.000000              1.0   \n",
       "134590   3.360100e+10       109.795706              5.0   \n",
       "95551    3.360101e+10        69.000000             15.0   \n",
       "16589    3.360101e+10        86.000000              5.0   \n",
       "\n",
       "        Avg Bearer TP DL (kbps)  Avg Bearer TP UL (kbps)  \\\n",
       "41943                      37.0                39.000000   \n",
       "127709                     48.0                51.000000   \n",
       "134590                     48.0                49.000000   \n",
       "95551                     204.0                44.000000   \n",
       "16589                   40372.0              1770.428647   \n",
       "\n",
       "        TCP DL Retrans. Vol (Bytes)  TCP UL Retrans. Vol (Bytes)  \\\n",
       "41943                  2.080991e+07                759658.664811   \n",
       "127709                 2.080991e+07                759658.664811   \n",
       "134590                 2.080991e+07                759658.664811   \n",
       "95551                  1.066000e+03                759658.664811   \n",
       "16589                  9.349630e+06                 21202.000000   \n",
       "\n",
       "                          Handset Type  experiance_score  \n",
       "41943   Huawei P20 Lite Huawei Nova 3E          0.000581  \n",
       "127709          Apple iPhone 7 (A1778)          0.000581  \n",
       "134590                       undefined          0.000581  \n",
       "95551          Apple iPhone 5S (A1457)          0.000042  \n",
       "16589          Apple iPhone Se (A1723)          0.000239  "
      ]
     },
     "execution_count": 28,
     "metadata": {},
     "output_type": "execute_result"
    }
   ],
   "source": [
    "user_experiance.head()"
   ]
  },
  {
   "cell_type": "markdown",
   "id": "aa000fe5",
   "metadata": {},
   "source": [
    "### Merge the User experiance and User engagment table"
   ]
  },
  {
   "cell_type": "code",
   "execution_count": 29,
   "id": "78b1ede6",
   "metadata": {},
   "outputs": [],
   "source": [
    "import pandas as pd\n",
    "user_satsfaction = pd.merge(user_engagment, user_experiance, on=\"MSISDN/Number\")"
   ]
  },
  {
   "cell_type": "code",
   "execution_count": 32,
   "id": "7b897889",
   "metadata": {},
   "outputs": [
    {
     "data": {
      "text/html": [
       "<div>\n",
       "<style scoped>\n",
       "    .dataframe tbody tr th:only-of-type {\n",
       "        vertical-align: middle;\n",
       "    }\n",
       "\n",
       "    .dataframe tbody tr th {\n",
       "        vertical-align: top;\n",
       "    }\n",
       "\n",
       "    .dataframe thead th {\n",
       "        text-align: right;\n",
       "    }\n",
       "</style>\n",
       "<table border=\"1\" class=\"dataframe\">\n",
       "  <thead>\n",
       "    <tr style=\"text-align: right;\">\n",
       "      <th></th>\n",
       "      <th>session_traffic(bytes)</th>\n",
       "      <th>session_duration(ms)</th>\n",
       "      <th>session_freq</th>\n",
       "      <th>cluster</th>\n",
       "      <th>engagment_score</th>\n",
       "      <th>MSISDN/Number</th>\n",
       "      <th>Avg RTT DL (ms)</th>\n",
       "      <th>Avg RTT UL (ms)</th>\n",
       "      <th>Avg Bearer TP DL (kbps)</th>\n",
       "      <th>Avg Bearer TP UL (kbps)</th>\n",
       "      <th>TCP DL Retrans. Vol (Bytes)</th>\n",
       "      <th>TCP UL Retrans. Vol (Bytes)</th>\n",
       "      <th>Handset Type</th>\n",
       "      <th>experiance_score</th>\n",
       "      <th>avg_satsfaction_score</th>\n",
       "    </tr>\n",
       "  </thead>\n",
       "  <tbody>\n",
       "    <tr>\n",
       "      <th>0</th>\n",
       "      <td>8.786906e+08</td>\n",
       "      <td>116720.0</td>\n",
       "      <td>1</td>\n",
       "      <td>2</td>\n",
       "      <td>0.001961</td>\n",
       "      <td>3.360100e+10</td>\n",
       "      <td>46.000000</td>\n",
       "      <td>0.0</td>\n",
       "      <td>37.0</td>\n",
       "      <td>39.000000</td>\n",
       "      <td>2.080991e+07</td>\n",
       "      <td>759658.664811</td>\n",
       "      <td>Huawei P20 Lite Huawei Nova 3E</td>\n",
       "      <td>0.000581</td>\n",
       "      <td>0.001271</td>\n",
       "    </tr>\n",
       "    <tr>\n",
       "      <th>1</th>\n",
       "      <td>1.568596e+08</td>\n",
       "      <td>181230.0</td>\n",
       "      <td>1</td>\n",
       "      <td>1</td>\n",
       "      <td>0.000938</td>\n",
       "      <td>3.360100e+10</td>\n",
       "      <td>30.000000</td>\n",
       "      <td>1.0</td>\n",
       "      <td>48.0</td>\n",
       "      <td>51.000000</td>\n",
       "      <td>2.080991e+07</td>\n",
       "      <td>759658.664811</td>\n",
       "      <td>Apple iPhone 7 (A1778)</td>\n",
       "      <td>0.000581</td>\n",
       "      <td>0.000759</td>\n",
       "    </tr>\n",
       "    <tr>\n",
       "      <th>2</th>\n",
       "      <td>5.959665e+08</td>\n",
       "      <td>134969.0</td>\n",
       "      <td>1</td>\n",
       "      <td>2</td>\n",
       "      <td>0.001867</td>\n",
       "      <td>3.360100e+10</td>\n",
       "      <td>109.795706</td>\n",
       "      <td>5.0</td>\n",
       "      <td>48.0</td>\n",
       "      <td>49.000000</td>\n",
       "      <td>2.080991e+07</td>\n",
       "      <td>759658.664811</td>\n",
       "      <td>undefined</td>\n",
       "      <td>0.000581</td>\n",
       "      <td>0.001224</td>\n",
       "    </tr>\n",
       "    <tr>\n",
       "      <th>3</th>\n",
       "      <td>4.223207e+08</td>\n",
       "      <td>49878.0</td>\n",
       "      <td>1</td>\n",
       "      <td>2</td>\n",
       "      <td>0.001975</td>\n",
       "      <td>3.360101e+10</td>\n",
       "      <td>69.000000</td>\n",
       "      <td>15.0</td>\n",
       "      <td>204.0</td>\n",
       "      <td>44.000000</td>\n",
       "      <td>1.066000e+03</td>\n",
       "      <td>759658.664811</td>\n",
       "      <td>Apple iPhone 5S (A1457)</td>\n",
       "      <td>0.000042</td>\n",
       "      <td>0.001009</td>\n",
       "    </tr>\n",
       "    <tr>\n",
       "      <th>4</th>\n",
       "      <td>1.457411e+09</td>\n",
       "      <td>37104.0</td>\n",
       "      <td>2</td>\n",
       "      <td>2</td>\n",
       "      <td>0.002068</td>\n",
       "      <td>3.360101e+10</td>\n",
       "      <td>86.000000</td>\n",
       "      <td>5.0</td>\n",
       "      <td>40372.0</td>\n",
       "      <td>1770.428647</td>\n",
       "      <td>9.349630e+06</td>\n",
       "      <td>21202.000000</td>\n",
       "      <td>Apple iPhone Se (A1723)</td>\n",
       "      <td>0.000239</td>\n",
       "      <td>0.001154</td>\n",
       "    </tr>\n",
       "  </tbody>\n",
       "</table>\n",
       "</div>"
      ],
      "text/plain": [
       "   session_traffic(bytes)  session_duration(ms)  session_freq  cluster  \\\n",
       "0            8.786906e+08              116720.0             1        2   \n",
       "1            1.568596e+08              181230.0             1        1   \n",
       "2            5.959665e+08              134969.0             1        2   \n",
       "3            4.223207e+08               49878.0             1        2   \n",
       "4            1.457411e+09               37104.0             2        2   \n",
       "\n",
       "   engagment_score  MSISDN/Number  Avg RTT DL (ms)  Avg RTT UL (ms)  \\\n",
       "0         0.001961   3.360100e+10        46.000000              0.0   \n",
       "1         0.000938   3.360100e+10        30.000000              1.0   \n",
       "2         0.001867   3.360100e+10       109.795706              5.0   \n",
       "3         0.001975   3.360101e+10        69.000000             15.0   \n",
       "4         0.002068   3.360101e+10        86.000000              5.0   \n",
       "\n",
       "   Avg Bearer TP DL (kbps)  Avg Bearer TP UL (kbps)  \\\n",
       "0                     37.0                39.000000   \n",
       "1                     48.0                51.000000   \n",
       "2                     48.0                49.000000   \n",
       "3                    204.0                44.000000   \n",
       "4                  40372.0              1770.428647   \n",
       "\n",
       "   TCP DL Retrans. Vol (Bytes)  TCP UL Retrans. Vol (Bytes)  \\\n",
       "0                 2.080991e+07                759658.664811   \n",
       "1                 2.080991e+07                759658.664811   \n",
       "2                 2.080991e+07                759658.664811   \n",
       "3                 1.066000e+03                759658.664811   \n",
       "4                 9.349630e+06                 21202.000000   \n",
       "\n",
       "                     Handset Type  experiance_score  avg_satsfaction_score  \n",
       "0  Huawei P20 Lite Huawei Nova 3E          0.000581               0.001271  \n",
       "1          Apple iPhone 7 (A1778)          0.000581               0.000759  \n",
       "2                       undefined          0.000581               0.001224  \n",
       "3         Apple iPhone 5S (A1457)          0.000042               0.001009  \n",
       "4         Apple iPhone Se (A1723)          0.000239               0.001154  "
      ]
     },
     "execution_count": 32,
     "metadata": {},
     "output_type": "execute_result"
    }
   ],
   "source": [
    "user_satsfaction.head()"
   ]
  },
  {
   "cell_type": "markdown",
   "id": "d7175d70",
   "metadata": {},
   "source": [
    "### The average of both engagement & experience scores"
   ]
  },
  {
   "cell_type": "code",
   "execution_count": 31,
   "id": "3e9fbd20",
   "metadata": {},
   "outputs": [],
   "source": [
    "user_satsfaction['avg_satsfaction_score'] = (user_satsfaction['engagment_score'] + user_satsfaction['experiance_score'])/2"
   ]
  },
  {
   "cell_type": "markdown",
   "id": "bb5f1aac",
   "metadata": {},
   "source": [
    "### Prepare the data for the regression"
   ]
  },
  {
   "cell_type": "code",
   "execution_count": 34,
   "id": "f659d43e",
   "metadata": {},
   "outputs": [],
   "source": [
    "from sklearn.model_selection import train_test_split\n",
    "from sklearn.linear_model import LinearRegression"
   ]
  },
  {
   "cell_type": "code",
   "execution_count": 41,
   "id": "a06a2705",
   "metadata": {},
   "outputs": [],
   "source": [
    "X = user_satsfaction.loc[:, user_satsfaction.columns!='Handset Type']\n",
    "X = X.iloc[:, :-1]\n",
    "Y = user_satsfaction.iloc[:, -1]\n",
    "x_train, x_test, y_train, y_test = train_test_split(X, Y, test_size=0.2, random_state=10)"
   ]
  },
  {
   "cell_type": "markdown",
   "id": "cf87eef7",
   "metadata": {},
   "source": [
    "### Regression"
   ]
  },
  {
   "cell_type": "code",
   "execution_count": 42,
   "id": "ec1416b9",
   "metadata": {},
   "outputs": [],
   "source": [
    "model = LinearRegression()"
   ]
  },
  {
   "cell_type": "code",
   "execution_count": 43,
   "id": "0a22d56b",
   "metadata": {},
   "outputs": [],
   "source": [
    "model = model.fit(x_train, y_train)"
   ]
  },
  {
   "cell_type": "code",
   "execution_count": 44,
   "id": "eda2bee5",
   "metadata": {},
   "outputs": [],
   "source": [
    "prediction = model.predict(x_test)"
   ]
  },
  {
   "cell_type": "code",
   "execution_count": 45,
   "id": "c922e39a",
   "metadata": {},
   "outputs": [
    {
     "data": {
      "text/plain": [
       "array([0.00123705, 0.00125827, 0.00126193, ..., 0.0012292 , 0.00120729,\n",
       "       0.00096184])"
      ]
     },
     "execution_count": 45,
     "metadata": {},
     "output_type": "execute_result"
    }
   ],
   "source": [
    "prediction"
   ]
  },
  {
   "cell_type": "markdown",
   "id": "7a382854",
   "metadata": {},
   "source": [
    "### K-means (k=2) on the engagement & the experience score "
   ]
  },
  {
   "cell_type": "code",
   "execution_count": 49,
   "id": "16037a28",
   "metadata": {},
   "outputs": [],
   "source": [
    "from sklearn.cluster import KMeans\n",
    "kmeans = KMeans(init=\"random\",\n",
    "                n_clusters=2,\n",
    "                n_init=10,\n",
    "                max_iter=300,\n",
    "                random_state=42\n",
    "   )"
   ]
  },
  {
   "cell_type": "code",
   "execution_count": 50,
   "id": "0b817241",
   "metadata": {},
   "outputs": [
    {
     "data": {
      "text/plain": [
       "array([[2.61417834e-02, 3.47251814e-06, 2.97508408e-11, ...,\n",
       "        6.19112447e-04, 2.26004840e-05, 1.72734507e-14],\n",
       "       [4.66825081e-03, 5.39352939e-06, 2.97606875e-11, ...,\n",
       "        6.19317355e-04, 2.26079641e-05, 1.72791676e-14],\n",
       "       [1.77337759e-02, 4.01618224e-06, 2.97563310e-11, ...,\n",
       "        6.19226697e-04, 2.26046547e-05, 1.72766378e-14],\n",
       "       ...,\n",
       "       [7.26063355e-05, 2.74438307e-07, 3.12791200e-13, ...,\n",
       "        6.50915806e-06, 2.37614546e-07, 1.03690378e-17],\n",
       "       [1.76939988e-06, 7.50830778e-10, 2.96735872e-15, ...,\n",
       "        6.17504807e-08, 2.25417977e-09, 1.17269510e-19],\n",
       "       [1.57699572e-07, 9.85773856e-10, 1.13327661e-15, ...,\n",
       "        2.35833890e-08, 8.60903393e-10, 4.48297219e-20]])"
      ]
     },
     "execution_count": 50,
     "metadata": {},
     "output_type": "execute_result"
    }
   ],
   "source": [
    "from scripts.datacleaning import DataCleaning\n",
    "cleaner = DataCleaning()\n",
    "normalized = cleaner.normalizer(X)\n",
    "normalized"
   ]
  },
  {
   "cell_type": "code",
   "execution_count": 51,
   "id": "d3e1ce35",
   "metadata": {},
   "outputs": [],
   "source": [
    "clustering_model = kmeans.fit(normalized)"
   ]
  },
  {
   "cell_type": "code",
   "execution_count": 53,
   "id": "5998f395",
   "metadata": {},
   "outputs": [
    {
     "data": {
      "text/plain": [
       "array([[9.98061863e-01, 1.50500754e-04, 2.00606671e-09, 3.70123009e-12,\n",
       "        3.59491929e-15, 6.22293749e-02, 1.44082315e-10, 1.78427126e-11,\n",
       "        1.89684201e-08, 1.37256886e-09, 1.58896912e-05, 6.88955593e-07,\n",
       "        4.61665605e-16],\n",
       "       [2.72716710e-02, 6.32870129e-06, 5.50990474e-11, 5.45262945e-11,\n",
       "        5.40577586e-14, 9.99402031e-01, 1.91772109e-09, 2.39534501e-10,\n",
       "        2.35193047e-07, 1.68124713e-08, 4.14677224e-04, 1.59822691e-05,\n",
       "        1.16434889e-14]])"
      ]
     },
     "execution_count": 53,
     "metadata": {},
     "output_type": "execute_result"
    }
   ],
   "source": [
    "centroids = kmeans.cluster_centers_\n",
    "centroids"
   ]
  },
  {
   "cell_type": "code",
   "execution_count": 54,
   "id": "3a210135",
   "metadata": {},
   "outputs": [
    {
     "name": "stderr",
     "output_type": "stream",
     "text": [
      "/home/hmicheal/.conda/envs/10x/lib/python3.10/site-packages/sklearn/base.py:450: UserWarning: X does not have valid feature names, but LinearRegression was fitted with feature names\n",
      "  warnings.warn(\n"
     ]
    }
   ],
   "source": [
    "user_satsfaction['statsfaction_cluster'] = model.predict(normalized)"
   ]
  },
  {
   "cell_type": "markdown",
   "id": "a1c3d8a2",
   "metadata": {},
   "source": [
    "### Persistent the data to mysql database"
   ]
  },
  {
   "cell_type": "code",
   "execution_count": 63,
   "id": "031cae2f",
   "metadata": {},
   "outputs": [],
   "source": [
    "from sqlalchemy import create_engine\n",
    "import os\n",
    "import pymysql"
   ]
  },
  {
   "cell_type": "code",
   "execution_count": 64,
   "id": "34c79344",
   "metadata": {},
   "outputs": [
    {
     "name": "stdout",
     "output_type": "stream",
     "text": [
      "2022-08-27 10:33:33,494 INFO sqlalchemy.engine.Engine SELECT DATABASE()\n"
     ]
    },
    {
     "name": "stderr",
     "output_type": "stream",
     "text": [
      "2022-08-27 10:33:33,494:INFO:sqlalchemy.engine.Engine:SELECT DATABASE()\n"
     ]
    },
    {
     "name": "stdout",
     "output_type": "stream",
     "text": [
      "2022-08-27 10:33:33,495 INFO sqlalchemy.engine.Engine [raw sql] {}\n"
     ]
    },
    {
     "name": "stderr",
     "output_type": "stream",
     "text": [
      "2022-08-27 10:33:33,495:INFO:sqlalchemy.engine.Engine:[raw sql] {}\n"
     ]
    },
    {
     "name": "stdout",
     "output_type": "stream",
     "text": [
      "2022-08-27 10:33:33,497 INFO sqlalchemy.engine.Engine SELECT @@sql_mode\n"
     ]
    },
    {
     "name": "stderr",
     "output_type": "stream",
     "text": [
      "2022-08-27 10:33:33,497:INFO:sqlalchemy.engine.Engine:SELECT @@sql_mode\n"
     ]
    },
    {
     "name": "stdout",
     "output_type": "stream",
     "text": [
      "2022-08-27 10:33:33,497 INFO sqlalchemy.engine.Engine [raw sql] {}\n"
     ]
    },
    {
     "name": "stderr",
     "output_type": "stream",
     "text": [
      "2022-08-27 10:33:33,497:INFO:sqlalchemy.engine.Engine:[raw sql] {}\n"
     ]
    },
    {
     "name": "stdout",
     "output_type": "stream",
     "text": [
      "2022-08-27 10:33:33,498 INFO sqlalchemy.engine.Engine SELECT @@lower_case_table_names\n"
     ]
    },
    {
     "name": "stderr",
     "output_type": "stream",
     "text": [
      "2022-08-27 10:33:33,498:INFO:sqlalchemy.engine.Engine:SELECT @@lower_case_table_names\n"
     ]
    },
    {
     "name": "stdout",
     "output_type": "stream",
     "text": [
      "2022-08-27 10:33:33,499 INFO sqlalchemy.engine.Engine [raw sql] {}\n"
     ]
    },
    {
     "name": "stderr",
     "output_type": "stream",
     "text": [
      "2022-08-27 10:33:33,499:INFO:sqlalchemy.engine.Engine:[raw sql] {}\n"
     ]
    }
   ],
   "source": [
    "from dotenv import load_dotenv\n",
    "load_dotenv()\n",
    "engine = create_engine(os.getenv(\"DATABASE_URL\"), echo=True)\n",
    "conn = engine.connect()"
   ]
  },
  {
   "cell_type": "code",
   "execution_count": 65,
   "id": "2da2dadb",
   "metadata": {
    "collapsed": true
   },
   "outputs": [
    {
     "name": "stdout",
     "output_type": "stream",
     "text": [
      "2022-08-27 10:34:29,424 INFO sqlalchemy.engine.Engine SELECT COUNT(*) FROM information_schema.tables WHERE table_schema = %(table_schema)s AND table_name = %(table_name)s\n"
     ]
    },
    {
     "name": "stderr",
     "output_type": "stream",
     "text": [
      "2022-08-27 10:34:29,424:INFO:sqlalchemy.engine.Engine:SELECT COUNT(*) FROM information_schema.tables WHERE table_schema = %(table_schema)s AND table_name = %(table_name)s\n"
     ]
    },
    {
     "name": "stdout",
     "output_type": "stream",
     "text": [
      "2022-08-27 10:34:29,425 INFO sqlalchemy.engine.Engine [generated in 0.00128s] {'table_schema': 'telecomdata', 'table_name': 'user_satsfaction'}\n"
     ]
    },
    {
     "name": "stderr",
     "output_type": "stream",
     "text": [
      "2022-08-27 10:34:29,425:INFO:sqlalchemy.engine.Engine:[generated in 0.00128s] {'table_schema': 'telecomdata', 'table_name': 'user_satsfaction'}\n"
     ]
    },
    {
     "name": "stdout",
     "output_type": "stream",
     "text": [
      "2022-08-27 10:34:29,428 INFO sqlalchemy.engine.Engine BEGIN (implicit)\n"
     ]
    },
    {
     "name": "stderr",
     "output_type": "stream",
     "text": [
      "2022-08-27 10:34:29,428:INFO:sqlalchemy.engine.Engine:BEGIN (implicit)\n"
     ]
    },
    {
     "name": "stdout",
     "output_type": "stream",
     "text": [
      "2022-08-27 10:34:29,430 INFO sqlalchemy.engine.Engine \n",
      "CREATE TABLE user_satsfaction (\n",
      "\t`index` BIGINT, \n",
      "\t`session_traffic(bytes)` FLOAT(53), \n",
      "\t`session_duration(ms)` FLOAT(53), \n",
      "\tsession_freq BIGINT, \n",
      "\tcluster BIGINT, \n",
      "\tengagment_score FLOAT(53), \n",
      "\t`MSISDN/Number` FLOAT(53), \n",
      "\t`Avg RTT DL (ms)` FLOAT(53), \n",
      "\t`Avg RTT UL (ms)` FLOAT(53), \n",
      "\t`Avg Bearer TP DL (kbps)` FLOAT(53), \n",
      "\t`Avg Bearer TP UL (kbps)` FLOAT(53), \n",
      "\t`TCP DL Retrans. Vol (Bytes)` FLOAT(53), \n",
      "\t`TCP UL Retrans. Vol (Bytes)` FLOAT(53), \n",
      "\t`Handset Type` TEXT, \n",
      "\texperiance_score FLOAT(53), \n",
      "\tavg_satsfaction_score FLOAT(53), \n",
      "\tstatsfaction_cluster FLOAT(53)\n",
      ")\n",
      "\n",
      "\n"
     ]
    },
    {
     "name": "stderr",
     "output_type": "stream",
     "text": [
      "2022-08-27 10:34:29,430:INFO:sqlalchemy.engine.Engine:\n",
      "CREATE TABLE user_satsfaction (\n",
      "\t`index` BIGINT, \n",
      "\t`session_traffic(bytes)` FLOAT(53), \n",
      "\t`session_duration(ms)` FLOAT(53), \n",
      "\tsession_freq BIGINT, \n",
      "\tcluster BIGINT, \n",
      "\tengagment_score FLOAT(53), \n",
      "\t`MSISDN/Number` FLOAT(53), \n",
      "\t`Avg RTT DL (ms)` FLOAT(53), \n",
      "\t`Avg RTT UL (ms)` FLOAT(53), \n",
      "\t`Avg Bearer TP DL (kbps)` FLOAT(53), \n",
      "\t`Avg Bearer TP UL (kbps)` FLOAT(53), \n",
      "\t`TCP DL Retrans. Vol (Bytes)` FLOAT(53), \n",
      "\t`TCP UL Retrans. Vol (Bytes)` FLOAT(53), \n",
      "\t`Handset Type` TEXT, \n",
      "\texperiance_score FLOAT(53), \n",
      "\tavg_satsfaction_score FLOAT(53), \n",
      "\tstatsfaction_cluster FLOAT(53)\n",
      ")\n",
      "\n",
      "\n"
     ]
    },
    {
     "name": "stdout",
     "output_type": "stream",
     "text": [
      "2022-08-27 10:34:29,430 INFO sqlalchemy.engine.Engine [no key 0.00072s] {}\n"
     ]
    },
    {
     "name": "stderr",
     "output_type": "stream",
     "text": [
      "2022-08-27 10:34:29,430:INFO:sqlalchemy.engine.Engine:[no key 0.00072s] {}\n"
     ]
    },
    {
     "name": "stdout",
     "output_type": "stream",
     "text": [
      "2022-08-27 10:34:29,444 INFO sqlalchemy.engine.Engine CREATE INDEX ix_user_satsfaction_index ON user_satsfaction (`index`)\n"
     ]
    },
    {
     "name": "stderr",
     "output_type": "stream",
     "text": [
      "2022-08-27 10:34:29,444:INFO:sqlalchemy.engine.Engine:CREATE INDEX ix_user_satsfaction_index ON user_satsfaction (`index`)\n"
     ]
    },
    {
     "name": "stdout",
     "output_type": "stream",
     "text": [
      "2022-08-27 10:34:29,445 INFO sqlalchemy.engine.Engine [no key 0.00071s] {}\n"
     ]
    },
    {
     "name": "stderr",
     "output_type": "stream",
     "text": [
      "2022-08-27 10:34:29,445:INFO:sqlalchemy.engine.Engine:[no key 0.00071s] {}\n"
     ]
    },
    {
     "name": "stdout",
     "output_type": "stream",
     "text": [
      "2022-08-27 10:34:29,457 INFO sqlalchemy.engine.Engine COMMIT\n"
     ]
    },
    {
     "name": "stderr",
     "output_type": "stream",
     "text": [
      "2022-08-27 10:34:29,457:INFO:sqlalchemy.engine.Engine:COMMIT\n"
     ]
    },
    {
     "name": "stdout",
     "output_type": "stream",
     "text": [
      "2022-08-27 10:34:29,542 INFO sqlalchemy.engine.Engine BEGIN (implicit)\n"
     ]
    },
    {
     "name": "stderr",
     "output_type": "stream",
     "text": [
      "2022-08-27 10:34:29,542:INFO:sqlalchemy.engine.Engine:BEGIN (implicit)\n"
     ]
    },
    {
     "name": "stdout",
     "output_type": "stream",
     "text": [
      "2022-08-27 10:34:30,970 INFO sqlalchemy.engine.Engine INSERT INTO user_satsfaction (`index`, `session_traffic(bytes)`, `session_duration(ms)`, session_freq, cluster, engagment_score, `MSISDN/Number`, `Avg RTT DL (ms)`, `Avg RTT UL (ms)`, `Avg Bearer TP DL (kbps)`, `Avg Bearer TP UL (kbps)`, `TCP DL Retrans. Vol (Bytes)`, `TCP UL Retrans. Vol (Bytes)`, `Handset Type`, experiance_score, avg_satsfaction_score, statsfaction_cluster) VALUES (%(index)s, %(session_trafficAbytesZ)s, %(session_durationAmsZ)s, %(session_freq)s, %(cluster)s, %(engagment_score)s, %(MSISDN/Number)s, %(Avg RTT DL AmsZ)s, %(Avg RTT UL AmsZ)s, %(Avg Bearer TP DL AkbpsZ)s, %(Avg Bearer TP UL AkbpsZ)s, %(TCP DL Retrans. Vol ABytesZ)s, %(TCP UL Retrans. Vol ABytesZ)s, %(Handset Type)s, %(experiance_score)s, %(avg_satsfaction_score)s, %(statsfaction_cluster)s)\n"
     ]
    },
    {
     "name": "stderr",
     "output_type": "stream",
     "text": [
      "2022-08-27 10:34:30,970:INFO:sqlalchemy.engine.Engine:INSERT INTO user_satsfaction (`index`, `session_traffic(bytes)`, `session_duration(ms)`, session_freq, cluster, engagment_score, `MSISDN/Number`, `Avg RTT DL (ms)`, `Avg RTT UL (ms)`, `Avg Bearer TP DL (kbps)`, `Avg Bearer TP UL (kbps)`, `TCP DL Retrans. Vol (Bytes)`, `TCP UL Retrans. Vol (Bytes)`, `Handset Type`, experiance_score, avg_satsfaction_score, statsfaction_cluster) VALUES (%(index)s, %(session_trafficAbytesZ)s, %(session_durationAmsZ)s, %(session_freq)s, %(cluster)s, %(engagment_score)s, %(MSISDN/Number)s, %(Avg RTT DL AmsZ)s, %(Avg RTT UL AmsZ)s, %(Avg Bearer TP DL AkbpsZ)s, %(Avg Bearer TP UL AkbpsZ)s, %(TCP DL Retrans. Vol ABytesZ)s, %(TCP UL Retrans. Vol ABytesZ)s, %(Handset Type)s, %(experiance_score)s, %(avg_satsfaction_score)s, %(statsfaction_cluster)s)\n"
     ]
    },
    {
     "name": "stdout",
     "output_type": "stream",
     "text": [
      "2022-08-27 10:34:30,972 INFO sqlalchemy.engine.Engine [generated in 1.27184s] ({'index': 0, 'session_trafficAbytesZ': 878690574.0, 'session_durationAmsZ': 116720.0, 'session_freq': 1, 'cluster': 2, 'engagment_score': 0.0019605127842471, 'MSISDN/Number': 33601001722.0, 'Avg RTT DL AmsZ': 46.0, 'Avg RTT UL AmsZ': 0.0, 'Avg Bearer TP DL AkbpsZ': 37.0, 'Avg Bearer TP UL AkbpsZ': 39.0, 'TCP DL Retrans. Vol ABytesZ': 20809914.27034193, 'TCP UL Retrans. Vol ABytesZ': 759658.6648110661, 'Handset Type': 'Huawei P20 Lite Huawei Nova 3E', 'experiance_score': 0.0005806037811166, 'avg_satsfaction_score': 0.0012705582826818501, 'statsfaction_cluster': 0.0004978991983963694}, {'index': 1, 'session_trafficAbytesZ': 156859643.0, 'session_durationAmsZ': 181230.0, 'session_freq': 1, 'cluster': 1, 'engagment_score': 0.0009379837598242, 'MSISDN/Number': 33601001754.0, 'Avg RTT DL AmsZ': 30.0, 'Avg RTT UL AmsZ': 1.0, 'Avg Bearer TP DL AkbpsZ': 48.0, 'Avg Bearer TP UL AkbpsZ': 51.0, 'TCP DL Retrans. Vol ABytesZ': 20809914.27034193, 'TCP UL Retrans. Vol ABytesZ': 759658.6648110661, 'Handset Type': 'Apple iPhone 7 (A1778)', 'experiance_score': 0.0005806037800649, 'avg_satsfaction_score': 0.00075929376994455, 'statsfaction_cluster': 0.0004978991983874679}, {'index': 2, 'session_trafficAbytesZ': 595966483.0, 'session_durationAmsZ': 134969.0, 'session_freq': 1, 'cluster': 2, 'engagment_score': 0.0018668760809028, 'MSISDN/Number': 33601002511.0, 'Avg RTT DL AmsZ': 109.79570605376028, 'Avg RTT UL AmsZ': 5.0, 'Avg Bearer TP DL AkbpsZ': 48.0, 'Avg Bearer TP UL AkbpsZ': 49.0, 'TCP DL Retrans. Vol ABytesZ': 20809914.27034193, 'TCP UL Retrans. Vol ABytesZ': 759658.6648110661, 'Handset Type': 'undefined', 'experiance_score': 0.0005806037661059, 'avg_satsfaction_score': 0.00122373992350435, 'statsfaction_cluster': 0.0004978991983956031}, {'index': 3, 'session_trafficAbytesZ': 422320698.0, 'session_durationAmsZ': 49878.0, 'session_freq': 1, 'cluster': 2, 'engagment_score': 0.0019752422324637, 'MSISDN/Number': 33601007832.0, 'Avg RTT DL AmsZ': 69.0, 'Avg RTT UL AmsZ': 15.0, 'Avg Bearer TP DL AkbpsZ': 204.0, 'Avg Bearer TP UL AkbpsZ': 44.0, 'TCP DL Retrans. Vol ABytesZ': 1066.0, 'TCP UL Retrans. Vol ABytesZ': 759658.6648110661, 'Handset Type': 'Apple iPhone 5S (A1457)', 'experiance_score': 4.185813230748832e-05, 'avg_satsfaction_score': 0.0010085501823855942, 'statsfaction_cluster': 0.0004978991983878349}, {'index': 4, 'session_trafficAbytesZ': 1457410944.0, 'session_durationAmsZ': 37104.0, 'session_freq': 2, 'cluster': 2, 'engagment_score': 0.0020678878772495, 'MSISDN/Number': 33601008617.0, 'Avg RTT DL AmsZ': 86.0, 'Avg RTT UL AmsZ': 5.0, 'Avg Bearer TP DL AkbpsZ': 40372.0, 'Avg Bearer TP UL AkbpsZ': 1770.4286466666667, 'TCP DL Retrans. Vol ABytesZ': 9349630.0, 'TCP UL Retrans. Vol ABytesZ': 21202.0, 'Handset Type': 'Apple iPhone Se (A1723)', 'experiance_score': 0.0002394175996158, 'avg_satsfaction_score': 0.0011536527384326501, 'statsfaction_cluster': 0.0004978991983923371}, {'index': 5, 'session_trafficAbytesZ': 1457410944.0, 'session_durationAmsZ': 37104.0, 'session_freq': 2, 'cluster': 2, 'engagment_score': 0.0020678878772495, 'MSISDN/Number': 33601008617.0, 'Avg RTT DL AmsZ': 28.0, 'Avg RTT UL AmsZ': 0.0, 'Avg Bearer TP DL AkbpsZ': 23.0, 'Avg Bearer TP UL AkbpsZ': 40.0, 'TCP DL Retrans. Vol ABytesZ': 20809914.27034193, 'TCP UL Retrans. Vol ABytesZ': 759658.6648110661, 'Handset Type': 'Apple iPhone Se (A1723)', 'experiance_score': 0.0005806036543386, 'avg_satsfaction_score': 0.00132424576579405, 'statsfaction_cluster': 0.0004978991983967604}, {'index': 6, 'session_trafficAbytesZ': 615217221.0, 'session_durationAmsZ': 253983.0, 'session_freq': 2, 'cluster': 2, 'engagment_score': 0.0016805123350865, 'MSISDN/Number': 33601010682.0, 'Avg RTT DL AmsZ': 109.79570605376028, 'Avg RTT UL AmsZ': 5.0, 'Avg Bearer TP DL AkbpsZ': 59.0, 'Avg Bearer TP UL AkbpsZ': 62.0, 'TCP DL Retrans. Vol ABytesZ': 20809914.27034193, 'TCP UL Retrans. Vol ABytesZ': 759658.6648110661, 'Handset Type': 'Samsung Galaxy A8 (2018)', 'experiance_score': 0.0005806036152344, 'avg_satsfaction_score': 0.0011305579751604501, 'statsfaction_cluster': 0.000497899198394546}, {'index': 7, 'session_trafficAbytesZ': 615217221.0, 'session_durationAmsZ': 253983.0, 'session_freq': 2, 'cluster': 2, 'engagment_score': 0.0016805123350865, 'MSISDN/Number': 33601010682.0, 'Avg RTT DL AmsZ': 21.0, 'Avg RTT UL AmsZ': 3.0, 'Avg Bearer TP DL AkbpsZ': 7463.0, 'Avg Bearer TP UL AkbpsZ': 324.0, 'TCP DL Retrans. Vol ABytesZ': 2760.0, 'TCP UL Retrans. Vol ABytesZ': 759658.6648110661, 'Handset Type': 'Samsung Galaxy A8 (2018)', 'experiance_score': 4.180910014784944e-05, 'avg_satsfaction_score': 0.0008611607176171748, 'statsfaction_cluster': 0.0004978991983871127}  ... displaying 10 of 150001 total bound parameter sets ...  {'index': 149999, 'session_trafficAbytesZ': 596287824.0, 'session_durationAmsZ': 253030.0, 'session_freq': 1, 'cluster': 2, 'engagment_score': 0.0016690049625287, 'MSISDN/Number': 337000037000919.0, 'Avg RTT DL AmsZ': 109.79570605376028, 'Avg RTT UL AmsZ': 5.0, 'Avg Bearer TP DL AkbpsZ': 11.0, 'Avg Bearer TP UL AkbpsZ': 22.0, 'TCP DL Retrans. Vol ABytesZ': 20809914.27034193, 'TCP UL Retrans. Vol ABytesZ': 759658.6648110661, 'Handset Type': 'Huawei B525S-23A', 'experiance_score': 3.951982917514289e-05, 'avg_satsfaction_score': 0.0008542623958519214, 'statsfaction_cluster': 0.0004978991983736386}, {'index': 150000, 'session_trafficAbytesZ': 139153646.0, 'session_durationAmsZ': 869844.0, 'session_freq': 1, 'cluster': 0, 'engagment_score': 0.0041575281573991, 'MSISDN/Number': 882397108489451.0, 'Avg RTT DL AmsZ': 109.79570605376028, 'Avg RTT UL AmsZ': 5.0, 'Avg Bearer TP DL AkbpsZ': 2.0, 'Avg Bearer TP UL AkbpsZ': 0.0, 'TCP DL Retrans. Vol ABytesZ': 20809914.27034193, 'TCP UL Retrans. Vol ABytesZ': 759658.6648110661, 'Handset Type': 'Quectel Wireless. Quectel Ec21-E', 'experiance_score': 3.955761700738878e-05, 'avg_satsfaction_score': 0.002098542887203244, 'statsfaction_cluster': 0.0004978991983736366})\n"
     ]
    },
    {
     "name": "stderr",
     "output_type": "stream",
     "text": [
      "2022-08-27 10:34:30,972:INFO:sqlalchemy.engine.Engine:[generated in 1.27184s] ({'index': 0, 'session_trafficAbytesZ': 878690574.0, 'session_durationAmsZ': 116720.0, 'session_freq': 1, 'cluster': 2, 'engagment_score': 0.0019605127842471, 'MSISDN/Number': 33601001722.0, 'Avg RTT DL AmsZ': 46.0, 'Avg RTT UL AmsZ': 0.0, 'Avg Bearer TP DL AkbpsZ': 37.0, 'Avg Bearer TP UL AkbpsZ': 39.0, 'TCP DL Retrans. Vol ABytesZ': 20809914.27034193, 'TCP UL Retrans. Vol ABytesZ': 759658.6648110661, 'Handset Type': 'Huawei P20 Lite Huawei Nova 3E', 'experiance_score': 0.0005806037811166, 'avg_satsfaction_score': 0.0012705582826818501, 'statsfaction_cluster': 0.0004978991983963694}, {'index': 1, 'session_trafficAbytesZ': 156859643.0, 'session_durationAmsZ': 181230.0, 'session_freq': 1, 'cluster': 1, 'engagment_score': 0.0009379837598242, 'MSISDN/Number': 33601001754.0, 'Avg RTT DL AmsZ': 30.0, 'Avg RTT UL AmsZ': 1.0, 'Avg Bearer TP DL AkbpsZ': 48.0, 'Avg Bearer TP UL AkbpsZ': 51.0, 'TCP DL Retrans. Vol ABytesZ': 20809914.27034193, 'TCP UL Retrans. Vol ABytesZ': 759658.6648110661, 'Handset Type': 'Apple iPhone 7 (A1778)', 'experiance_score': 0.0005806037800649, 'avg_satsfaction_score': 0.00075929376994455, 'statsfaction_cluster': 0.0004978991983874679}, {'index': 2, 'session_trafficAbytesZ': 595966483.0, 'session_durationAmsZ': 134969.0, 'session_freq': 1, 'cluster': 2, 'engagment_score': 0.0018668760809028, 'MSISDN/Number': 33601002511.0, 'Avg RTT DL AmsZ': 109.79570605376028, 'Avg RTT UL AmsZ': 5.0, 'Avg Bearer TP DL AkbpsZ': 48.0, 'Avg Bearer TP UL AkbpsZ': 49.0, 'TCP DL Retrans. Vol ABytesZ': 20809914.27034193, 'TCP UL Retrans. Vol ABytesZ': 759658.6648110661, 'Handset Type': 'undefined', 'experiance_score': 0.0005806037661059, 'avg_satsfaction_score': 0.00122373992350435, 'statsfaction_cluster': 0.0004978991983956031}, {'index': 3, 'session_trafficAbytesZ': 422320698.0, 'session_durationAmsZ': 49878.0, 'session_freq': 1, 'cluster': 2, 'engagment_score': 0.0019752422324637, 'MSISDN/Number': 33601007832.0, 'Avg RTT DL AmsZ': 69.0, 'Avg RTT UL AmsZ': 15.0, 'Avg Bearer TP DL AkbpsZ': 204.0, 'Avg Bearer TP UL AkbpsZ': 44.0, 'TCP DL Retrans. Vol ABytesZ': 1066.0, 'TCP UL Retrans. Vol ABytesZ': 759658.6648110661, 'Handset Type': 'Apple iPhone 5S (A1457)', 'experiance_score': 4.185813230748832e-05, 'avg_satsfaction_score': 0.0010085501823855942, 'statsfaction_cluster': 0.0004978991983878349}, {'index': 4, 'session_trafficAbytesZ': 1457410944.0, 'session_durationAmsZ': 37104.0, 'session_freq': 2, 'cluster': 2, 'engagment_score': 0.0020678878772495, 'MSISDN/Number': 33601008617.0, 'Avg RTT DL AmsZ': 86.0, 'Avg RTT UL AmsZ': 5.0, 'Avg Bearer TP DL AkbpsZ': 40372.0, 'Avg Bearer TP UL AkbpsZ': 1770.4286466666667, 'TCP DL Retrans. Vol ABytesZ': 9349630.0, 'TCP UL Retrans. Vol ABytesZ': 21202.0, 'Handset Type': 'Apple iPhone Se (A1723)', 'experiance_score': 0.0002394175996158, 'avg_satsfaction_score': 0.0011536527384326501, 'statsfaction_cluster': 0.0004978991983923371}, {'index': 5, 'session_trafficAbytesZ': 1457410944.0, 'session_durationAmsZ': 37104.0, 'session_freq': 2, 'cluster': 2, 'engagment_score': 0.0020678878772495, 'MSISDN/Number': 33601008617.0, 'Avg RTT DL AmsZ': 28.0, 'Avg RTT UL AmsZ': 0.0, 'Avg Bearer TP DL AkbpsZ': 23.0, 'Avg Bearer TP UL AkbpsZ': 40.0, 'TCP DL Retrans. Vol ABytesZ': 20809914.27034193, 'TCP UL Retrans. Vol ABytesZ': 759658.6648110661, 'Handset Type': 'Apple iPhone Se (A1723)', 'experiance_score': 0.0005806036543386, 'avg_satsfaction_score': 0.00132424576579405, 'statsfaction_cluster': 0.0004978991983967604}, {'index': 6, 'session_trafficAbytesZ': 615217221.0, 'session_durationAmsZ': 253983.0, 'session_freq': 2, 'cluster': 2, 'engagment_score': 0.0016805123350865, 'MSISDN/Number': 33601010682.0, 'Avg RTT DL AmsZ': 109.79570605376028, 'Avg RTT UL AmsZ': 5.0, 'Avg Bearer TP DL AkbpsZ': 59.0, 'Avg Bearer TP UL AkbpsZ': 62.0, 'TCP DL Retrans. Vol ABytesZ': 20809914.27034193, 'TCP UL Retrans. Vol ABytesZ': 759658.6648110661, 'Handset Type': 'Samsung Galaxy A8 (2018)', 'experiance_score': 0.0005806036152344, 'avg_satsfaction_score': 0.0011305579751604501, 'statsfaction_cluster': 0.000497899198394546}, {'index': 7, 'session_trafficAbytesZ': 615217221.0, 'session_durationAmsZ': 253983.0, 'session_freq': 2, 'cluster': 2, 'engagment_score': 0.0016805123350865, 'MSISDN/Number': 33601010682.0, 'Avg RTT DL AmsZ': 21.0, 'Avg RTT UL AmsZ': 3.0, 'Avg Bearer TP DL AkbpsZ': 7463.0, 'Avg Bearer TP UL AkbpsZ': 324.0, 'TCP DL Retrans. Vol ABytesZ': 2760.0, 'TCP UL Retrans. Vol ABytesZ': 759658.6648110661, 'Handset Type': 'Samsung Galaxy A8 (2018)', 'experiance_score': 4.180910014784944e-05, 'avg_satsfaction_score': 0.0008611607176171748, 'statsfaction_cluster': 0.0004978991983871127}  ... displaying 10 of 150001 total bound parameter sets ...  {'index': 149999, 'session_trafficAbytesZ': 596287824.0, 'session_durationAmsZ': 253030.0, 'session_freq': 1, 'cluster': 2, 'engagment_score': 0.0016690049625287, 'MSISDN/Number': 337000037000919.0, 'Avg RTT DL AmsZ': 109.79570605376028, 'Avg RTT UL AmsZ': 5.0, 'Avg Bearer TP DL AkbpsZ': 11.0, 'Avg Bearer TP UL AkbpsZ': 22.0, 'TCP DL Retrans. Vol ABytesZ': 20809914.27034193, 'TCP UL Retrans. Vol ABytesZ': 759658.6648110661, 'Handset Type': 'Huawei B525S-23A', 'experiance_score': 3.951982917514289e-05, 'avg_satsfaction_score': 0.0008542623958519214, 'statsfaction_cluster': 0.0004978991983736386}, {'index': 150000, 'session_trafficAbytesZ': 139153646.0, 'session_durationAmsZ': 869844.0, 'session_freq': 1, 'cluster': 0, 'engagment_score': 0.0041575281573991, 'MSISDN/Number': 882397108489451.0, 'Avg RTT DL AmsZ': 109.79570605376028, 'Avg RTT UL AmsZ': 5.0, 'Avg Bearer TP DL AkbpsZ': 2.0, 'Avg Bearer TP UL AkbpsZ': 0.0, 'TCP DL Retrans. Vol ABytesZ': 20809914.27034193, 'TCP UL Retrans. Vol ABytesZ': 759658.6648110661, 'Handset Type': 'Quectel Wireless. Quectel Ec21-E', 'experiance_score': 3.955761700738878e-05, 'avg_satsfaction_score': 0.002098542887203244, 'statsfaction_cluster': 0.0004978991983736366})\n"
     ]
    },
    {
     "name": "stdout",
     "output_type": "stream",
     "text": [
      "2022-08-27 10:34:36,244 INFO sqlalchemy.engine.Engine COMMIT\n"
     ]
    },
    {
     "name": "stderr",
     "output_type": "stream",
     "text": [
      "2022-08-27 10:34:36,244:INFO:sqlalchemy.engine.Engine:COMMIT\n"
     ]
    },
    {
     "data": {
      "text/plain": [
       "150001"
      ]
     },
     "execution_count": 65,
     "metadata": {},
     "output_type": "execute_result"
    }
   ],
   "source": [
    "user_satsfaction.to_sql('user_satsfaction',con = engine)"
   ]
  },
  {
   "cell_type": "code",
   "execution_count": null,
   "id": "bce452b2",
   "metadata": {},
   "outputs": [],
   "source": []
  }
 ],
 "metadata": {
  "kernelspec": {
   "display_name": "Python 3 (ipykernel)",
   "language": "python",
   "name": "python3"
  },
  "language_info": {
   "codemirror_mode": {
    "name": "ipython",
    "version": 3
   },
   "file_extension": ".py",
   "mimetype": "text/x-python",
   "name": "python",
   "nbconvert_exporter": "python",
   "pygments_lexer": "ipython3",
   "version": "3.10.4"
  }
 },
 "nbformat": 4,
 "nbformat_minor": 5
}
