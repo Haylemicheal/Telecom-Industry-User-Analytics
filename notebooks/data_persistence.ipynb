{
 "cells": [
  {
   "cell_type": "code",
   "execution_count": 6,
   "id": "88507310",
   "metadata": {},
   "outputs": [],
   "source": [
    "from sqlalchemy import create_engine\n",
    "import os\n",
    "import pymysql"
   ]
  },
  {
   "cell_type": "code",
   "execution_count": 7,
   "id": "0015a0bf",
   "metadata": {},
   "outputs": [
    {
     "name": "stdout",
     "output_type": "stream",
     "text": [
      "2022-08-27 09:17:22,038 INFO sqlalchemy.engine.Engine SELECT DATABASE()\n",
      "2022-08-27 09:17:22,039 INFO sqlalchemy.engine.Engine [raw sql] {}\n",
      "2022-08-27 09:17:22,040 INFO sqlalchemy.engine.Engine SELECT @@sql_mode\n",
      "2022-08-27 09:17:22,040 INFO sqlalchemy.engine.Engine [raw sql] {}\n",
      "2022-08-27 09:17:22,041 INFO sqlalchemy.engine.Engine SELECT @@lower_case_table_names\n",
      "2022-08-27 09:17:22,041 INFO sqlalchemy.engine.Engine [raw sql] {}\n"
     ]
    }
   ],
   "source": [
    "from dotenv import load_dotenv\n",
    "load_dotenv()\n",
    "engine = create_engine(os.getenv(\"DATABASE_URL\"), echo=True)\n",
    "conn = engine.connect()"
   ]
  },
  {
   "cell_type": "code",
   "execution_count": 8,
   "id": "d0dc97bf",
   "metadata": {},
   "outputs": [],
   "source": [
    "import sys, os\n",
    "sys.path.append(os.path.abspath(os.path.join('..')))"
   ]
  },
  {
   "cell_type": "code",
   "execution_count": 9,
   "id": "2eb0c1eb",
   "metadata": {},
   "outputs": [],
   "source": [
    "from scripts.dataloader import DataLoader\n",
    "from scripts.data_understanding import DataUnderstanding\n",
    "dl = DataLoader('../data', 'sample.csv')\n",
    "raw_df = dl.read_csv()"
   ]
  },
  {
   "cell_type": "code",
   "execution_count": 10,
   "id": "a0e7c966",
   "metadata": {
    "scrolled": false
   },
   "outputs": [
    {
     "name": "stdout",
     "output_type": "stream",
     "text": [
      "2022-08-27 09:17:28,700 INFO sqlalchemy.engine.Engine SELECT COUNT(*) FROM information_schema.tables WHERE table_schema = %(table_schema)s AND table_name = %(table_name)s\n"
     ]
    },
    {
     "name": "stderr",
     "output_type": "stream",
     "text": [
      "2022-08-27 09:17:28,700:INFO:sqlalchemy.engine.Engine:SELECT COUNT(*) FROM information_schema.tables WHERE table_schema = %(table_schema)s AND table_name = %(table_name)s\n"
     ]
    },
    {
     "name": "stdout",
     "output_type": "stream",
     "text": [
      "2022-08-27 09:17:28,701 INFO sqlalchemy.engine.Engine [generated in 0.00100s] {'table_schema': 'telecomdata', 'table_name': 'Telecom_Data'}\n"
     ]
    },
    {
     "name": "stderr",
     "output_type": "stream",
     "text": [
      "2022-08-27 09:17:28,701:INFO:sqlalchemy.engine.Engine:[generated in 0.00100s] {'table_schema': 'telecomdata', 'table_name': 'Telecom_Data'}\n"
     ]
    },
    {
     "name": "stdout",
     "output_type": "stream",
     "text": [
      "2022-08-27 09:17:28,708 INFO sqlalchemy.engine.Engine BEGIN (implicit)\n"
     ]
    },
    {
     "name": "stderr",
     "output_type": "stream",
     "text": [
      "2022-08-27 09:17:28,708:INFO:sqlalchemy.engine.Engine:BEGIN (implicit)\n"
     ]
    },
    {
     "name": "stdout",
     "output_type": "stream",
     "text": [
      "2022-08-27 09:17:28,711 INFO sqlalchemy.engine.Engine \n",
      "CREATE TABLE `Telecom_Data` (\n",
      "\t`index` BIGINT, \n",
      "\t`Bearer Id` FLOAT(53), \n",
      "\t`Start` TEXT, \n",
      "\t`Start ms` BIGINT, \n",
      "\t`End` TEXT, \n",
      "\t`End ms` BIGINT, \n",
      "\t`Dur. (ms)` BIGINT, \n",
      "\t`IMSI` BIGINT, \n",
      "\t`MSISDN/Number` BIGINT, \n",
      "\t`IMEI` BIGINT, \n",
      "\t`Last Location Name` TEXT, \n",
      "\t`Avg RTT DL (ms)` FLOAT(53), \n",
      "\t`Avg RTT UL (ms)` FLOAT(53), \n",
      "\t`Avg Bearer TP DL (kbps)` BIGINT, \n",
      "\t`Avg Bearer TP UL (kbps)` BIGINT, \n",
      "\t`TCP DL Retrans. Vol (Bytes)` FLOAT(53), \n",
      "\t`TCP UL Retrans. Vol (Bytes)` FLOAT(53), \n",
      "\t`DL TP < 50 Kbps (%%)` BIGINT, \n",
      "\t`50 Kbps < DL TP < 250 Kbps (%%)` BIGINT, \n",
      "\t`250 Kbps < DL TP < 1 Mbps (%%)` BIGINT, \n",
      "\t`DL TP > 1 Mbps (%%)` BIGINT, \n",
      "\t`UL TP < 10 Kbps (%%)` BIGINT, \n",
      "\t`10 Kbps < UL TP < 50 Kbps (%%)` BIGINT, \n",
      "\t`50 Kbps < UL TP < 300 Kbps (%%)` BIGINT, \n",
      "\t`UL TP > 300 Kbps (%%)` BIGINT, \n",
      "\t`HTTP DL (Bytes)` FLOAT(53), \n",
      "\t`HTTP UL (Bytes)` FLOAT(53), \n",
      "\t`Activity Duration DL (ms)` BIGINT, \n",
      "\t`Activity Duration UL (ms)` BIGINT, \n",
      "\t`Dur. (ms).1` BIGINT, \n",
      "\t`Handset Manufacturer` TEXT, \n",
      "\t`Handset Type` TEXT, \n",
      "\t`Nb of sec with 125000B < Vol DL` FLOAT(53), \n",
      "\t`Nb of sec with 1250B < Vol UL < 6250B` FLOAT(53), \n",
      "\t`Nb of sec with 31250B < Vol DL < 125000B` FLOAT(53), \n",
      "\t`Nb of sec with 37500B < Vol UL` FLOAT(53), \n",
      "\t`Nb of sec with 6250B < Vol DL < 31250B` FLOAT(53), \n",
      "\t`Nb of sec with 6250B < Vol UL < 37500B` FLOAT(53), \n",
      "\t`Nb of sec with Vol DL < 6250B` BIGINT, \n",
      "\t`Nb of sec with Vol UL < 1250B` BIGINT, \n",
      "\t`Social Media DL (Bytes)` BIGINT, \n",
      "\t`Social Media UL (Bytes)` BIGINT, \n",
      "\t`Google DL (Bytes)` BIGINT, \n",
      "\t`Google UL (Bytes)` BIGINT, \n",
      "\t`Email DL (Bytes)` BIGINT, \n",
      "\t`Email UL (Bytes)` BIGINT, \n",
      "\t`Youtube DL (Bytes)` BIGINT, \n",
      "\t`Youtube UL (Bytes)` BIGINT, \n",
      "\t`Netflix DL (Bytes)` BIGINT, \n",
      "\t`Netflix UL (Bytes)` BIGINT, \n",
      "\t`Gaming DL (Bytes)` BIGINT, \n",
      "\t`Gaming UL (Bytes)` BIGINT, \n",
      "\t`Other DL (Bytes)` BIGINT, \n",
      "\t`Other UL (Bytes)` BIGINT, \n",
      "\t`Total UL (Bytes)` BIGINT, \n",
      "\t`Total DL (Bytes)` BIGINT\n",
      ")\n",
      "\n",
      "\n"
     ]
    },
    {
     "name": "stderr",
     "output_type": "stream",
     "text": [
      "2022-08-27 09:17:28,711:INFO:sqlalchemy.engine.Engine:\n",
      "CREATE TABLE `Telecom_Data` (\n",
      "\t`index` BIGINT, \n",
      "\t`Bearer Id` FLOAT(53), \n",
      "\t`Start` TEXT, \n",
      "\t`Start ms` BIGINT, \n",
      "\t`End` TEXT, \n",
      "\t`End ms` BIGINT, \n",
      "\t`Dur. (ms)` BIGINT, \n",
      "\t`IMSI` BIGINT, \n",
      "\t`MSISDN/Number` BIGINT, \n",
      "\t`IMEI` BIGINT, \n",
      "\t`Last Location Name` TEXT, \n",
      "\t`Avg RTT DL (ms)` FLOAT(53), \n",
      "\t`Avg RTT UL (ms)` FLOAT(53), \n",
      "\t`Avg Bearer TP DL (kbps)` BIGINT, \n",
      "\t`Avg Bearer TP UL (kbps)` BIGINT, \n",
      "\t`TCP DL Retrans. Vol (Bytes)` FLOAT(53), \n",
      "\t`TCP UL Retrans. Vol (Bytes)` FLOAT(53), \n",
      "\t`DL TP < 50 Kbps (%%)` BIGINT, \n",
      "\t`50 Kbps < DL TP < 250 Kbps (%%)` BIGINT, \n",
      "\t`250 Kbps < DL TP < 1 Mbps (%%)` BIGINT, \n",
      "\t`DL TP > 1 Mbps (%%)` BIGINT, \n",
      "\t`UL TP < 10 Kbps (%%)` BIGINT, \n",
      "\t`10 Kbps < UL TP < 50 Kbps (%%)` BIGINT, \n",
      "\t`50 Kbps < UL TP < 300 Kbps (%%)` BIGINT, \n",
      "\t`UL TP > 300 Kbps (%%)` BIGINT, \n",
      "\t`HTTP DL (Bytes)` FLOAT(53), \n",
      "\t`HTTP UL (Bytes)` FLOAT(53), \n",
      "\t`Activity Duration DL (ms)` BIGINT, \n",
      "\t`Activity Duration UL (ms)` BIGINT, \n",
      "\t`Dur. (ms).1` BIGINT, \n",
      "\t`Handset Manufacturer` TEXT, \n",
      "\t`Handset Type` TEXT, \n",
      "\t`Nb of sec with 125000B < Vol DL` FLOAT(53), \n",
      "\t`Nb of sec with 1250B < Vol UL < 6250B` FLOAT(53), \n",
      "\t`Nb of sec with 31250B < Vol DL < 125000B` FLOAT(53), \n",
      "\t`Nb of sec with 37500B < Vol UL` FLOAT(53), \n",
      "\t`Nb of sec with 6250B < Vol DL < 31250B` FLOAT(53), \n",
      "\t`Nb of sec with 6250B < Vol UL < 37500B` FLOAT(53), \n",
      "\t`Nb of sec with Vol DL < 6250B` BIGINT, \n",
      "\t`Nb of sec with Vol UL < 1250B` BIGINT, \n",
      "\t`Social Media DL (Bytes)` BIGINT, \n",
      "\t`Social Media UL (Bytes)` BIGINT, \n",
      "\t`Google DL (Bytes)` BIGINT, \n",
      "\t`Google UL (Bytes)` BIGINT, \n",
      "\t`Email DL (Bytes)` BIGINT, \n",
      "\t`Email UL (Bytes)` BIGINT, \n",
      "\t`Youtube DL (Bytes)` BIGINT, \n",
      "\t`Youtube UL (Bytes)` BIGINT, \n",
      "\t`Netflix DL (Bytes)` BIGINT, \n",
      "\t`Netflix UL (Bytes)` BIGINT, \n",
      "\t`Gaming DL (Bytes)` BIGINT, \n",
      "\t`Gaming UL (Bytes)` BIGINT, \n",
      "\t`Other DL (Bytes)` BIGINT, \n",
      "\t`Other UL (Bytes)` BIGINT, \n",
      "\t`Total UL (Bytes)` BIGINT, \n",
      "\t`Total DL (Bytes)` BIGINT\n",
      ")\n",
      "\n",
      "\n"
     ]
    },
    {
     "name": "stdout",
     "output_type": "stream",
     "text": [
      "2022-08-27 09:17:28,712 INFO sqlalchemy.engine.Engine [no key 0.00088s] {}\n"
     ]
    },
    {
     "name": "stderr",
     "output_type": "stream",
     "text": [
      "2022-08-27 09:17:28,712:INFO:sqlalchemy.engine.Engine:[no key 0.00088s] {}\n"
     ]
    },
    {
     "name": "stdout",
     "output_type": "stream",
     "text": [
      "2022-08-27 09:17:28,731 INFO sqlalchemy.engine.Engine CREATE INDEX `ix_Telecom_Data_index` ON `Telecom_Data` (`index`)\n"
     ]
    },
    {
     "name": "stderr",
     "output_type": "stream",
     "text": [
      "2022-08-27 09:17:28,731:INFO:sqlalchemy.engine.Engine:CREATE INDEX `ix_Telecom_Data_index` ON `Telecom_Data` (`index`)\n"
     ]
    },
    {
     "name": "stdout",
     "output_type": "stream",
     "text": [
      "2022-08-27 09:17:28,731 INFO sqlalchemy.engine.Engine [no key 0.00095s] {}\n"
     ]
    },
    {
     "name": "stderr",
     "output_type": "stream",
     "text": [
      "2022-08-27 09:17:28,731:INFO:sqlalchemy.engine.Engine:[no key 0.00095s] {}\n"
     ]
    },
    {
     "name": "stdout",
     "output_type": "stream",
     "text": [
      "2022-08-27 09:17:28,751 INFO sqlalchemy.engine.Engine COMMIT\n"
     ]
    },
    {
     "name": "stderr",
     "output_type": "stream",
     "text": [
      "2022-08-27 09:17:28,751:INFO:sqlalchemy.engine.Engine:COMMIT\n"
     ]
    },
    {
     "name": "stdout",
     "output_type": "stream",
     "text": [
      "2022-08-27 09:17:28,754 INFO sqlalchemy.engine.Engine BEGIN (implicit)\n"
     ]
    },
    {
     "name": "stderr",
     "output_type": "stream",
     "text": [
      "2022-08-27 09:17:28,754:INFO:sqlalchemy.engine.Engine:BEGIN (implicit)\n"
     ]
    },
    {
     "name": "stdout",
     "output_type": "stream",
     "text": [
      "2022-08-27 09:17:28,756 INFO sqlalchemy.engine.Engine INSERT INTO `Telecom_Data` (`index`, `Bearer Id`, `Start`, `Start ms`, `End`, `End ms`, `Dur. (ms)`, `IMSI`, `MSISDN/Number`, `IMEI`, `Last Location Name`, `Avg RTT DL (ms)`, `Avg RTT UL (ms)`, `Avg Bearer TP DL (kbps)`, `Avg Bearer TP UL (kbps)`, `TCP DL Retrans. Vol (Bytes)`, `TCP UL Retrans. Vol (Bytes)`, `DL TP < 50 Kbps (%%)`, `50 Kbps < DL TP < 250 Kbps (%%)`, `250 Kbps < DL TP < 1 Mbps (%%)`, `DL TP > 1 Mbps (%%)`, `UL TP < 10 Kbps (%%)`, `10 Kbps < UL TP < 50 Kbps (%%)`, `50 Kbps < UL TP < 300 Kbps (%%)`, `UL TP > 300 Kbps (%%)`, `HTTP DL (Bytes)`, `HTTP UL (Bytes)`, `Activity Duration DL (ms)`, `Activity Duration UL (ms)`, `Dur. (ms).1`, `Handset Manufacturer`, `Handset Type`, `Nb of sec with 125000B < Vol DL`, `Nb of sec with 1250B < Vol UL < 6250B`, `Nb of sec with 31250B < Vol DL < 125000B`, `Nb of sec with 37500B < Vol UL`, `Nb of sec with 6250B < Vol DL < 31250B`, `Nb of sec with 6250B < Vol UL < 37500B`, `Nb of sec with Vol DL < 6250B`, `Nb of sec with Vol UL < 1250B`, `Social Media DL (Bytes)`, `Social Media UL (Bytes)`, `Google DL (Bytes)`, `Google UL (Bytes)`, `Email DL (Bytes)`, `Email UL (Bytes)`, `Youtube DL (Bytes)`, `Youtube UL (Bytes)`, `Netflix DL (Bytes)`, `Netflix UL (Bytes)`, `Gaming DL (Bytes)`, `Gaming UL (Bytes)`, `Other DL (Bytes)`, `Other UL (Bytes)`, `Total UL (Bytes)`, `Total DL (Bytes)`) VALUES (%(index)s, %(Bearer Id)s, %(Start)s, %(Start ms)s, %(End)s, %(End ms)s, %(Dur. AmsZ)s, %(IMSI)s, %(MSISDN/Number)s, %(IMEI)s, %(Last Location Name)s, %(Avg RTT DL AmsZ)s, %(Avg RTT UL AmsZ)s, %(Avg Bearer TP DL AkbpsZ)s, %(Avg Bearer TP UL AkbpsZ)s, %(TCP DL Retrans. Vol ABytesZ)s, %(TCP UL Retrans. Vol ABytesZ)s, %(DL TP < 50 Kbps APZ)s, %(50 Kbps < DL TP < 250 Kbps APZ)s, %(250 Kbps < DL TP < 1 Mbps APZ)s, %(DL TP > 1 Mbps APZ)s, %(UL TP < 10 Kbps APZ)s, %(10 Kbps < UL TP < 50 Kbps APZ)s, %(50 Kbps < UL TP < 300 Kbps APZ)s, %(UL TP > 300 Kbps APZ)s, %(HTTP DL ABytesZ)s, %(HTTP UL ABytesZ)s, %(Activity Duration DL AmsZ)s, %(Activity Duration UL AmsZ)s, %(Dur. AmsZ.1)s, %(Handset Manufacturer)s, %(Handset Type)s, %(Nb of sec with 125000B < Vol DL)s, %(Nb of sec with 1250B < Vol UL < 6250B)s, %(Nb of sec with 31250B < Vol DL < 125000B)s, %(Nb of sec with 37500B < Vol UL)s, %(Nb of sec with 6250B < Vol DL < 31250B)s, %(Nb of sec with 6250B < Vol UL < 37500B)s, %(Nb of sec with Vol DL < 6250B)s, %(Nb of sec with Vol UL < 1250B)s, %(Social Media DL ABytesZ)s, %(Social Media UL ABytesZ)s, %(Google DL ABytesZ)s, %(Google UL ABytesZ)s, %(Email DL ABytesZ)s, %(Email UL ABytesZ)s, %(Youtube DL ABytesZ)s, %(Youtube UL ABytesZ)s, %(Netflix DL ABytesZ)s, %(Netflix UL ABytesZ)s, %(Gaming DL ABytesZ)s, %(Gaming UL ABytesZ)s, %(Other DL ABytesZ)s, %(Other UL ABytesZ)s, %(Total UL ABytesZ)s, %(Total DL ABytesZ)s)\n"
     ]
    },
    {
     "name": "stderr",
     "output_type": "stream",
     "text": [
      "2022-08-27 09:17:28,756:INFO:sqlalchemy.engine.Engine:INSERT INTO `Telecom_Data` (`index`, `Bearer Id`, `Start`, `Start ms`, `End`, `End ms`, `Dur. (ms)`, `IMSI`, `MSISDN/Number`, `IMEI`, `Last Location Name`, `Avg RTT DL (ms)`, `Avg RTT UL (ms)`, `Avg Bearer TP DL (kbps)`, `Avg Bearer TP UL (kbps)`, `TCP DL Retrans. Vol (Bytes)`, `TCP UL Retrans. Vol (Bytes)`, `DL TP < 50 Kbps (%%)`, `50 Kbps < DL TP < 250 Kbps (%%)`, `250 Kbps < DL TP < 1 Mbps (%%)`, `DL TP > 1 Mbps (%%)`, `UL TP < 10 Kbps (%%)`, `10 Kbps < UL TP < 50 Kbps (%%)`, `50 Kbps < UL TP < 300 Kbps (%%)`, `UL TP > 300 Kbps (%%)`, `HTTP DL (Bytes)`, `HTTP UL (Bytes)`, `Activity Duration DL (ms)`, `Activity Duration UL (ms)`, `Dur. (ms).1`, `Handset Manufacturer`, `Handset Type`, `Nb of sec with 125000B < Vol DL`, `Nb of sec with 1250B < Vol UL < 6250B`, `Nb of sec with 31250B < Vol DL < 125000B`, `Nb of sec with 37500B < Vol UL`, `Nb of sec with 6250B < Vol DL < 31250B`, `Nb of sec with 6250B < Vol UL < 37500B`, `Nb of sec with Vol DL < 6250B`, `Nb of sec with Vol UL < 1250B`, `Social Media DL (Bytes)`, `Social Media UL (Bytes)`, `Google DL (Bytes)`, `Google UL (Bytes)`, `Email DL (Bytes)`, `Email UL (Bytes)`, `Youtube DL (Bytes)`, `Youtube UL (Bytes)`, `Netflix DL (Bytes)`, `Netflix UL (Bytes)`, `Gaming DL (Bytes)`, `Gaming UL (Bytes)`, `Other DL (Bytes)`, `Other UL (Bytes)`, `Total UL (Bytes)`, `Total DL (Bytes)`) VALUES (%(index)s, %(Bearer Id)s, %(Start)s, %(Start ms)s, %(End)s, %(End ms)s, %(Dur. AmsZ)s, %(IMSI)s, %(MSISDN/Number)s, %(IMEI)s, %(Last Location Name)s, %(Avg RTT DL AmsZ)s, %(Avg RTT UL AmsZ)s, %(Avg Bearer TP DL AkbpsZ)s, %(Avg Bearer TP UL AkbpsZ)s, %(TCP DL Retrans. Vol ABytesZ)s, %(TCP UL Retrans. Vol ABytesZ)s, %(DL TP < 50 Kbps APZ)s, %(50 Kbps < DL TP < 250 Kbps APZ)s, %(250 Kbps < DL TP < 1 Mbps APZ)s, %(DL TP > 1 Mbps APZ)s, %(UL TP < 10 Kbps APZ)s, %(10 Kbps < UL TP < 50 Kbps APZ)s, %(50 Kbps < UL TP < 300 Kbps APZ)s, %(UL TP > 300 Kbps APZ)s, %(HTTP DL ABytesZ)s, %(HTTP UL ABytesZ)s, %(Activity Duration DL AmsZ)s, %(Activity Duration UL AmsZ)s, %(Dur. AmsZ.1)s, %(Handset Manufacturer)s, %(Handset Type)s, %(Nb of sec with 125000B < Vol DL)s, %(Nb of sec with 1250B < Vol UL < 6250B)s, %(Nb of sec with 31250B < Vol DL < 125000B)s, %(Nb of sec with 37500B < Vol UL)s, %(Nb of sec with 6250B < Vol DL < 31250B)s, %(Nb of sec with 6250B < Vol UL < 37500B)s, %(Nb of sec with Vol DL < 6250B)s, %(Nb of sec with Vol UL < 1250B)s, %(Social Media DL ABytesZ)s, %(Social Media UL ABytesZ)s, %(Google DL ABytesZ)s, %(Google UL ABytesZ)s, %(Email DL ABytesZ)s, %(Email UL ABytesZ)s, %(Youtube DL ABytesZ)s, %(Youtube UL ABytesZ)s, %(Netflix DL ABytesZ)s, %(Netflix UL ABytesZ)s, %(Gaming DL ABytesZ)s, %(Gaming UL ABytesZ)s, %(Other DL ABytesZ)s, %(Other UL ABytesZ)s, %(Total UL ABytesZ)s, %(Total DL ABytesZ)s)\n"
     ]
    },
    {
     "name": "stdout",
     "output_type": "stream",
     "text": [
      "2022-08-27 09:17:28,757 INFO sqlalchemy.engine.Engine [generated in 0.00101s] ({'index': 0, 'Bearer Id': 1.31144834608449e+19, 'Start': '4/4/2019 12:01', 'Start ms': 770, 'End': '4/25/2019 14:35', 'End ms': 662, 'Dur. AmsZ': 1823652, 'IMSI': 208201448079117, 'MSISDN/Number': 33664962239, 'IMEI': 35521209507511, 'Last Location Name': '9.16456699548519E+015', 'Avg RTT DL AmsZ': 42.0, 'Avg RTT UL AmsZ': 5.0, 'Avg Bearer TP DL AkbpsZ': 23, 'Avg Bearer TP UL AkbpsZ': 44, 'TCP DL Retrans. Vol ABytesZ': None, 'TCP UL Retrans. Vol ABytesZ': None, 'DL TP < 50 Kbps APZ': 100, '50 Kbps < DL TP < 250 Kbps APZ': 0, '250 Kbps < DL TP < 1 Mbps APZ': 0, 'DL TP > 1 Mbps APZ': 0, 'UL TP < 10 Kbps APZ': 100, '10 Kbps < UL TP < 50 Kbps APZ': 0, '50 Kbps < UL TP < 300 Kbps APZ': 0, 'UL TP > 300 Kbps APZ': 0, 'HTTP DL ABytesZ': None, 'HTTP UL ABytesZ': None, 'Activity Duration DL AmsZ': 37624, 'Activity Duration UL AmsZ': 38787, 'Dur. AmsZ.1': 1823652892, 'Handset Manufacturer': 'Samsung', 'Handset Type': 'Samsung Galaxy A5 Sm-A520F', 'Nb of sec with 125000B < Vol DL': None, 'Nb of sec with 1250B < Vol UL < 6250B': None, 'Nb of sec with 31250B < Vol DL < 125000B': None, 'Nb of sec with 37500B < Vol UL': None, 'Nb of sec with 6250B < Vol DL < 31250B': None, 'Nb of sec with 6250B < Vol UL < 37500B': None, 'Nb of sec with Vol DL < 6250B': 213, 'Nb of sec with Vol UL < 1250B': 214, 'Social Media DL ABytesZ': 1545765, 'Social Media UL ABytesZ': 24420, 'Google DL ABytesZ': 1634479, 'Google UL ABytesZ': 1271433, 'Email DL ABytesZ': 3563542, 'Email UL ABytesZ': 137762, 'Youtube DL ABytesZ': 15854611, 'Youtube UL ABytesZ': 2501332, 'Netflix DL ABytesZ': 8198936, 'Netflix UL ABytesZ': 9656251, 'Gaming DL ABytesZ': 278082303, 'Gaming UL ABytesZ': 14344150, 'Other DL ABytesZ': 171744450, 'Other UL ABytesZ': 8814393, 'Total UL ABytesZ': 36749741, 'Total DL ABytesZ': 308879636}, {'index': 1, 'Bearer Id': 1.31144834828789e+19, 'Start': '4/9/2019 13:04', 'Start ms': 235, 'End': '4/25/2019 8:15', 'End ms': 606, 'Dur. AmsZ': 1365104, 'IMSI': 208201909211140, 'MSISDN/Number': 33681854413, 'IMEI': 35794009006359, 'Last Location Name': 'L77566A', 'Avg RTT DL AmsZ': 65.0, 'Avg RTT UL AmsZ': 5.0, 'Avg Bearer TP DL AkbpsZ': 16, 'Avg Bearer TP UL AkbpsZ': 26, 'TCP DL Retrans. Vol ABytesZ': None, 'TCP UL Retrans. Vol ABytesZ': None, 'DL TP < 50 Kbps APZ': 100, '50 Kbps < DL TP < 250 Kbps APZ': 0, '250 Kbps < DL TP < 1 Mbps APZ': 0, 'DL TP > 1 Mbps APZ': 0, 'UL TP < 10 Kbps APZ': 100, '10 Kbps < UL TP < 50 Kbps APZ': 0, '50 Kbps < UL TP < 300 Kbps APZ': 0, 'UL TP > 300 Kbps APZ': 0, 'HTTP DL ABytesZ': None, 'HTTP UL ABytesZ': None, 'Activity Duration DL AmsZ': 168, 'Activity Duration UL AmsZ': 3560, 'Dur. AmsZ.1': 1365104371, 'Handset Manufacturer': 'Samsung', 'Handset Type': 'Samsung Galaxy J5 (Sm-J530)', 'Nb of sec with 125000B < Vol DL': None, 'Nb of sec with 1250B < Vol UL < 6250B': None, 'Nb of sec with 31250B < Vol DL < 125000B': None, 'Nb of sec with 37500B < Vol UL': None, 'Nb of sec with 6250B < Vol DL < 31250B': None, 'Nb of sec with 6250B < Vol UL < 37500B': None, 'Nb of sec with Vol DL < 6250B': 971, 'Nb of sec with Vol UL < 1250B': 1022, 'Social Media DL ABytesZ': 1926113, 'Social Media UL ABytesZ': 7165, 'Google DL ABytesZ': 3493924, 'Google UL ABytesZ': 920172, 'Email DL ABytesZ': 629046, 'Email UL ABytesZ': 308339, 'Youtube DL ABytesZ': 20247395, 'Youtube UL ABytesZ': 19111729, 'Netflix DL ABytesZ': 18338413, 'Netflix UL ABytesZ': 17227132, 'Gaming DL ABytesZ': 608750074, 'Gaming UL ABytesZ': 1170709, 'Other DL ABytesZ': 526904238, 'Other UL ABytesZ': 15055145, 'Total UL ABytesZ': 53800391, 'Total DL ABytesZ': 653384965}, {'index': 2, 'Bearer Id': 1.31144834840805e+19, 'Start': '4/9/2019 17:42', 'Start ms': 1, 'End': '4/25/2019 11:58', 'End ms': 652, 'Dur. AmsZ': 1361762, 'IMSI': 208200314458056, 'MSISDN/Number': 33760627129, 'IMEI': 35281510359387, 'Last Location Name': 'D42335A', 'Avg RTT DL AmsZ': None, 'Avg RTT UL AmsZ': None, 'Avg Bearer TP DL AkbpsZ': 6, 'Avg Bearer TP UL AkbpsZ': 9, 'TCP DL Retrans. Vol ABytesZ': None, 'TCP UL Retrans. Vol ABytesZ': None, 'DL TP < 50 Kbps APZ': 100, '50 Kbps < DL TP < 250 Kbps APZ': 0, '250 Kbps < DL TP < 1 Mbps APZ': 0, 'DL TP > 1 Mbps APZ': 0, 'UL TP < 10 Kbps APZ': 100, '10 Kbps < UL TP < 50 Kbps APZ': 0, '50 Kbps < UL TP < 300 Kbps APZ': 0, 'UL TP > 300 Kbps APZ': 0, 'HTTP DL ABytesZ': None, 'HTTP UL ABytesZ': None, 'Activity Duration DL AmsZ': 0, 'Activity Duration UL AmsZ': 0, 'Dur. AmsZ.1': 1361762651, 'Handset Manufacturer': 'Samsung', 'Handset Type': 'Samsung Galaxy A8 (2018)', 'Nb of sec with 125000B < Vol DL': None, 'Nb of sec with 1250B < Vol UL < 6250B': None, 'Nb of sec with 31250B < Vol DL < 125000B': None, 'Nb of sec with 37500B < Vol UL': None, 'Nb of sec with 6250B < Vol DL < 31250B': None, 'Nb of sec with 6250B < Vol UL < 37500B': None, 'Nb of sec with Vol DL < 6250B': 751, 'Nb of sec with Vol UL < 1250B': 695, 'Social Media DL ABytesZ': 1684053, 'Social Media UL ABytesZ': 42224, 'Google DL ABytesZ': 8535055, 'Google UL ABytesZ': 1694064, 'Email DL ABytesZ': 2690151, 'Email UL ABytesZ': 672973, 'Youtube DL ABytesZ': 19725661, 'Youtube UL ABytesZ': 14699576, 'Netflix DL ABytesZ': 17587794, 'Netflix UL ABytesZ': 6163408, 'Gaming DL ABytesZ': 229584621, 'Gaming UL ABytesZ': 395630, 'Other DL ABytesZ': 410692588, 'Other UL ABytesZ': 4215763, 'Total UL ABytesZ': 27883638, 'Total DL ABytesZ': 279807335}, {'index': 3, 'Bearer Id': 1.31144834854428e+19, 'Start': '4/10/2019 0:31', 'Start ms': 486, 'End': '4/25/2019 7:36', 'End ms': 171, 'Dur. AmsZ': 1321509, 'IMSI': 208201402342131, 'MSISDN/Number': 33750343200, 'IMEI': 35356610164913, 'Last Location Name': 'T21824A', 'Avg RTT DL AmsZ': None, 'Avg RTT UL AmsZ': None, 'Avg Bearer TP DL AkbpsZ': 44, 'Avg Bearer TP UL AkbpsZ': 44, 'TCP DL Retrans. Vol ABytesZ': None, 'TCP UL Retrans. Vol ABytesZ': None, 'DL TP < 50 Kbps APZ': 100, '50 Kbps < DL TP < 250 Kbps APZ': 0, '250 Kbps < DL TP < 1 Mbps APZ': 0, 'DL TP > 1 Mbps APZ': 0, 'UL TP < 10 Kbps APZ': 100, '10 Kbps < UL TP < 50 Kbps APZ': 0, '50 Kbps < UL TP < 300 Kbps APZ': 0, 'UL TP > 300 Kbps APZ': 0, 'HTTP DL ABytesZ': None, 'HTTP UL ABytesZ': None, 'Activity Duration DL AmsZ': 3330, 'Activity Duration UL AmsZ': 37882, 'Dur. AmsZ.1': 1321509685, 'Handset Manufacturer': 'undefined', 'Handset Type': 'undefined', 'Nb of sec with 125000B < Vol DL': None, 'Nb of sec with 1250B < Vol UL < 6250B': None, 'Nb of sec with 31250B < Vol DL < 125000B': None, 'Nb of sec with 37500B < Vol UL': None, 'Nb of sec with 6250B < Vol DL < 31250B': None, 'Nb of sec with 6250B < Vol UL < 37500B': None, 'Nb of sec with Vol DL < 6250B': 17, 'Nb of sec with Vol UL < 1250B': 207, 'Social Media DL ABytesZ': 644121, 'Social Media UL ABytesZ': 13372, 'Google DL ABytesZ': 9023734, 'Google UL ABytesZ': 2788027, 'Email DL ABytesZ': 1439754, 'Email UL ABytesZ': 631229, 'Youtube DL ABytesZ': 21388122, 'Youtube UL ABytesZ': 15146643, 'Netflix DL ABytesZ': 13994646, 'Netflix UL ABytesZ': 1097942, 'Gaming DL ABytesZ': 799538153, 'Gaming UL ABytesZ': 10849722, 'Other DL ABytesZ': 749039933, 'Other UL ABytesZ': 12797283, 'Total UL ABytesZ': 43324218, 'Total DL ABytesZ': 846028530}, {'index': 4, 'Bearer Id': 1.31144834994807e+19, 'Start': '4/12/2019 20:10', 'Start ms': 565, 'End': '4/25/2019 10:40', 'End ms': 954, 'Dur. AmsZ': 1089009, 'IMSI': 208201401415120, 'MSISDN/Number': 33699795932, 'IMEI': 35407009745539, 'Last Location Name': 'D88865A', 'Avg RTT DL AmsZ': None, 'Avg RTT UL AmsZ': None, 'Avg Bearer TP DL AkbpsZ': 6, 'Avg Bearer TP UL AkbpsZ': 9, 'TCP DL Retrans. Vol ABytesZ': None, 'TCP UL Retrans. Vol ABytesZ': None, 'DL TP < 50 Kbps APZ': 100, '50 Kbps < DL TP < 250 Kbps APZ': 0, '250 Kbps < DL TP < 1 Mbps APZ': 0, 'DL TP > 1 Mbps APZ': 0, 'UL TP < 10 Kbps APZ': 100, '10 Kbps < UL TP < 50 Kbps APZ': 0, '50 Kbps < UL TP < 300 Kbps APZ': 0, 'UL TP > 300 Kbps APZ': 0, 'HTTP DL ABytesZ': None, 'HTTP UL ABytesZ': None, 'Activity Duration DL AmsZ': 0, 'Activity Duration UL AmsZ': 0, 'Dur. AmsZ.1': 1089009389, 'Handset Manufacturer': 'Samsung', 'Handset Type': 'Samsung Sm-G390F', 'Nb of sec with 125000B < Vol DL': None, 'Nb of sec with 1250B < Vol UL < 6250B': None, 'Nb of sec with 31250B < Vol DL < 125000B': None, 'Nb of sec with 37500B < Vol UL': None, 'Nb of sec with 6250B < Vol DL < 31250B': None, 'Nb of sec with 6250B < Vol UL < 37500B': None, 'Nb of sec with Vol DL < 6250B': 607, 'Nb of sec with Vol UL < 1250B': 604, 'Social Media DL ABytesZ': 862600, 'Social Media UL ABytesZ': 50188, 'Google DL ABytesZ': 6248284, 'Google UL ABytesZ': 1500559, 'Email DL ABytesZ': 1936496, 'Email UL ABytesZ': 173853, 'Youtube DL ABytesZ': 15259380, 'Youtube UL ABytesZ': 18962873, 'Netflix DL ABytesZ': 17124581, 'Netflix UL ABytesZ': 415218, 'Gaming DL ABytesZ': 527707248, 'Gaming UL ABytesZ': 3529801, 'Other DL ABytesZ': 550709500, 'Other UL ABytesZ': 13910322, 'Total UL ABytesZ': 38542814, 'Total DL ABytesZ': 569138589}, {'index': 5, 'Bearer Id': 1.31144834997792e+19, 'Start': '4/12/2019 21:37', 'Start ms': 439, 'End': '4/25/2019 8:08', 'End ms': 553, 'Dur. AmsZ': 1074638, 'IMSI': 208201402670191, 'MSISDN/Number': 33668185951, 'IMEI': 35298410295700, 'Last Location Name': 'T89132C', 'Avg RTT DL AmsZ': None, 'Avg RTT UL AmsZ': None, 'Avg Bearer TP DL AkbpsZ': 70, 'Avg Bearer TP UL AkbpsZ': 54, 'TCP DL Retrans. Vol ABytesZ': None, 'TCP UL Retrans. Vol ABytesZ': None, 'DL TP < 50 Kbps APZ': 100, '50 Kbps < DL TP < 250 Kbps APZ': 0, '250 Kbps < DL TP < 1 Mbps APZ': 0, 'DL TP > 1 Mbps APZ': 0, 'UL TP < 10 Kbps APZ': 100, '10 Kbps < UL TP < 50 Kbps APZ': 0, '50 Kbps < UL TP < 300 Kbps APZ': 0, 'UL TP > 300 Kbps APZ': 0, 'HTTP DL ABytesZ': None, 'HTTP UL ABytesZ': None, 'Activity Duration DL AmsZ': 22639, 'Activity Duration UL AmsZ': 22700, 'Dur. AmsZ.1': 1074638114, 'Handset Manufacturer': 'undefined', 'Handset Type': 'undefined', 'Nb of sec with 125000B < Vol DL': None, 'Nb of sec with 1250B < Vol UL < 6250B': None, 'Nb of sec with 31250B < Vol DL < 125000B': None, 'Nb of sec with 37500B < Vol UL': None, 'Nb of sec with 6250B < Vol DL < 31250B': None, 'Nb of sec with 6250B < Vol UL < 37500B': None, 'Nb of sec with Vol DL < 6250B': 112, 'Nb of sec with Vol UL < 1250B': 118, 'Social Media DL ABytesZ': 3148833, 'Social Media UL ABytesZ': 51181, 'Google DL ABytesZ': 10351530, 'Google UL ABytesZ': 2582603, 'Email DL ABytesZ': 1980032, 'Email UL ABytesZ': 922378, 'Youtube DL ABytesZ': 21332918, 'Youtube UL ABytesZ': 2611113, 'Netflix DL ABytesZ': 7345361, 'Netflix UL ABytesZ': 6536448, 'Gaming DL ABytesZ': 710293538, 'Gaming UL ABytesZ': 13167974, 'Other DL ABytesZ': 654978277, 'Other UL ABytesZ': 4436057, 'Total UL ABytesZ': 30307754, 'Total DL ABytesZ': 754452212}, {'index': 6, 'Bearer Id': 1.31144835012438e+19, 'Start': '4/13/2019 8:41', 'Start ms': 612, 'End': '4/25/2019 8:16', 'End ms': 168, 'Dur. AmsZ': 1035261, 'IMSI': 208201448341047, 'MSISDN/Number': 33665368271, 'IMEI': 86762704322800, 'Last Location Name': '9.16456701058919E+015', 'Avg RTT DL AmsZ': 102.0, 'Avg RTT UL AmsZ': 5.0, 'Avg Bearer TP DL AkbpsZ': 22, 'Avg Bearer TP UL AkbpsZ': 38, 'TCP DL Retrans. Vol ABytesZ': None, 'TCP UL Retrans. Vol ABytesZ': None, 'DL TP < 50 Kbps APZ': 100, '50 Kbps < DL TP < 250 Kbps APZ': 0, '250 Kbps < DL TP < 1 Mbps APZ': 0, 'DL TP > 1 Mbps APZ': 0, 'UL TP < 10 Kbps APZ': 100, '10 Kbps < UL TP < 50 Kbps APZ': 0, '50 Kbps < UL TP < 300 Kbps APZ': 0, 'UL TP > 300 Kbps APZ': 0, 'HTTP DL ABytesZ': None, 'HTTP UL ABytesZ': None, 'Activity Duration DL AmsZ': 9785, 'Activity Duration UL AmsZ': 316210, 'Dur. AmsZ.1': 1035261556, 'Handset Manufacturer': 'Huawei', 'Handset Type': 'Huawei Mate 20 Lite', 'Nb of sec with 125000B < Vol DL': None, 'Nb of sec with 1250B < Vol UL < 6250B': None, 'Nb of sec with 31250B < Vol DL < 125000B': None, 'Nb of sec with 37500B < Vol UL': None, 'Nb of sec with 6250B < Vol DL < 31250B': None, 'Nb of sec with 6250B < Vol UL < 37500B': None, 'Nb of sec with Vol DL < 6250B': 33, 'Nb of sec with Vol UL < 1250B': 655, 'Social Media DL ABytesZ': 1623509, 'Social Media UL ABytesZ': 1482, 'Google DL ABytesZ': 1837897, 'Google UL ABytesZ': 3068975, 'Email DL ABytesZ': 1838947, 'Email UL ABytesZ': 252032, 'Youtube DL ABytesZ': 7234465, 'Youtube UL ABytesZ': 1886295, 'Netflix DL ABytesZ': 13231006, 'Netflix UL ABytesZ': 17981760, 'Gaming DL ABytesZ': 44796223, 'Gaming UL ABytesZ': 14084934, 'Other DL ABytesZ': 803653557, 'Other UL ABytesZ': 10649768, 'Total UL ABytesZ': 47925246, 'Total DL ABytesZ': 70562047}, {'index': 7, 'Bearer Id': 1.30424259108654e+19, 'Start': '4/14/2019 2:11', 'Start ms': 592, 'End': '4/25/2019 2:26', 'End ms': 512, 'Dur. AmsZ': 951292, 'IMSI': 208201009069207, 'MSISDN/Number': 33763490140, 'IMEI': 86546404964017, 'Last Location Name': 'CELL_208_20_520025_1', 'Avg RTT DL AmsZ': 39.0, 'Avg RTT UL AmsZ': 18.0, 'Avg Bearer TP DL AkbpsZ': 3698, 'Avg Bearer TP UL AkbpsZ': 416, 'TCP DL Retrans. Vol ABytesZ': 19520.0, 'TCP UL Retrans. Vol ABytesZ': None, 'DL TP < 50 Kbps APZ': 99, '50 Kbps < DL TP < 250 Kbps APZ': 0, '250 Kbps < DL TP < 1 Mbps APZ': 0, 'DL TP > 1 Mbps APZ': 0, 'UL TP < 10 Kbps APZ': 99, '10 Kbps < UL TP < 50 Kbps APZ': 0, '50 Kbps < UL TP < 300 Kbps APZ': 0, 'UL TP > 300 Kbps APZ': 0, 'HTTP DL ABytesZ': 230583.0, 'HTTP UL ABytesZ': 25427.0, 'Activity Duration DL AmsZ': 70832, 'Activity Duration UL AmsZ': 74477, 'Dur. AmsZ.1': 951292920, 'Handset Manufacturer': 'undefined', 'Handset Type': 'undefined', 'Nb of sec with 125000B < Vol DL': None, 'Nb of sec with 1250B < Vol UL < 6250B': 3.0, 'Nb of sec with 31250B < Vol DL < 125000B': 1.0, 'Nb of sec with 37500B < Vol UL': None, 'Nb of sec with 6250B < Vol DL < 31250B': 2.0, 'Nb of sec with 6250B < Vol UL < 37500B': None, 'Nb of sec with Vol DL < 6250B': 708, 'Nb of sec with Vol UL < 1250B': 666, 'Social Media DL ABytesZ': 3103940, 'Social Media UL ABytesZ': 57463, 'Google DL ABytesZ': 1304524, 'Google UL ABytesZ': 2568189, 'Email DL ABytesZ': 2987408, 'Email UL ABytesZ': 512696, 'Youtube DL ABytesZ': 12189786, 'Youtube UL ABytesZ': 19735183, 'Netflix DL ABytesZ': 6858496, 'Netflix UL ABytesZ': 12075206, 'Gaming DL ABytesZ': 748906189, 'Gaming UL ABytesZ': 16149622, 'Other DL ABytesZ': 537601820, 'Other UL ABytesZ': 7714657, 'Total UL ABytesZ': 58813016, 'Total DL ABytesZ': 775350343}, {'index': 8, 'Bearer Id': 1.31144835064325e+19, 'Start': '4/14/2019 12:48', 'Start ms': 121, 'End': '4/25/2019 10:22', 'End ms': 960, 'Dur. AmsZ': 941634, 'IMSI': 208201448324028, 'MSISDN/Number': 33698743617, 'IMEI': 35562409696153, 'Last Location Name': 'T42084A', 'Avg RTT DL AmsZ': None, 'Avg RTT UL AmsZ': None, 'Avg Bearer TP DL AkbpsZ': 46, 'Avg Bearer TP UL AkbpsZ': 49, 'TCP DL Retrans. Vol ABytesZ': None, 'TCP UL Retrans. Vol ABytesZ': None, 'DL TP < 50 Kbps APZ': 100, '50 Kbps < DL TP < 250 Kbps APZ': 0, '250 Kbps < DL TP < 1 Mbps APZ': 0, 'DL TP > 1 Mbps APZ': 0, 'UL TP < 10 Kbps APZ': 100, '10 Kbps < UL TP < 50 Kbps APZ': 0, '50 Kbps < UL TP < 300 Kbps APZ': 0, 'UL TP > 300 Kbps APZ': 0, 'HTTP DL ABytesZ': None, 'HTTP UL ABytesZ': None, 'Activity Duration DL AmsZ': 162472, 'Activity Duration UL AmsZ': 176488, 'Dur. AmsZ.1': 941634839, 'Handset Manufacturer': 'Samsung', 'Handset Type': 'Samsung Galaxy A8 (2018)', 'Nb of sec with 125000B < Vol DL': None, 'Nb of sec with 1250B < Vol UL < 6250B': None, 'Nb of sec with 31250B < Vol DL < 125000B': None, 'Nb of sec with 37500B < Vol UL': None, 'Nb of sec with 6250B < Vol DL < 31250B': None, 'Nb of sec with 6250B < Vol UL < 37500B': None, 'Nb of sec with Vol DL < 6250B': 794, 'Nb of sec with Vol UL < 1250B': 826, 'Social Media DL ABytesZ': 342043, 'Social Media UL ABytesZ': 30582, 'Google DL ABytesZ': 7560820, 'Google UL ABytesZ': 1341279, 'Email DL ABytesZ': 3014208, 'Email UL ABytesZ': 365861, 'Youtube DL ABytesZ': 18436641, 'Youtube UL ABytesZ': 10860867, 'Netflix DL ABytesZ': 10587264, 'Netflix UL ABytesZ': 8467177, 'Gaming DL ABytesZ': 821671285, 'Gaming UL ABytesZ': 6548349, 'Other DL ABytesZ': 172920486, 'Other UL ABytesZ': 14749031, 'Total UL ABytesZ': 42363146, 'Total DL ABytesZ': 861612261}, {'index': 9, 'Bearer Id': 1.30424259146693e+19, 'Start': '4/15/2019 0:32', 'Start ms': 0, 'End': '4/25/2019 0:40', 'End ms': 284, 'Dur. AmsZ': 864482, 'IMSI': 208200314385130, 'MSISDN/Number': 33659219748, 'IMEI': 35573109931422, 'Last Location Name': 'L20434C', 'Avg RTT DL AmsZ': 97.0, 'Avg RTT UL AmsZ': 7.0, 'Avg Bearer TP DL AkbpsZ': 3845, 'Avg Bearer TP UL AkbpsZ': 2535, 'TCP DL Retrans. Vol ABytesZ': 3231397.0, 'TCP UL Retrans. Vol ABytesZ': 7230.0, 'DL TP < 50 Kbps APZ': 70, '50 Kbps < DL TP < 250 Kbps APZ': 26, '250 Kbps < DL TP < 1 Mbps APZ': 2, 'DL TP > 1 Mbps APZ': 0, 'UL TP < 10 Kbps APZ': 99, '10 Kbps < UL TP < 50 Kbps APZ': 0, '50 Kbps < UL TP < 300 Kbps APZ': 0, 'UL TP > 300 Kbps APZ': 0, 'HTTP DL ABytesZ': 132246.0, 'HTTP UL ABytesZ': 32449.0, 'Activity Duration DL AmsZ': 1537874, 'Activity Duration UL AmsZ': 1542046, 'Dur. AmsZ.1': 864482284, 'Handset Manufacturer': 'Samsung', 'Handset Type': 'Samsung Galaxy Note 8 (Sm-N950F Ds)', 'Nb of sec with 125000B < Vol DL': None, 'Nb of sec with 1250B < Vol UL < 6250B': 14.0, 'Nb of sec with 31250B < Vol DL < 125000B': 165.0, 'Nb of sec with 37500B < Vol UL': None, 'Nb of sec with 6250B < Vol DL < 31250B': 1665.0, 'Nb of sec with 6250B < Vol UL < 37500B': 4.0, 'Nb of sec with Vol DL < 6250B': 4421, 'Nb of sec with Vol UL < 1250B': 6344, 'Social Media DL ABytesZ': 1541259, 'Social Media UL ABytesZ': 44154, 'Google DL ABytesZ': 8601949, 'Google UL ABytesZ': 176392, 'Email DL ABytesZ': 522457, 'Email UL ABytesZ': 243589, 'Youtube DL ABytesZ': 16338345, 'Youtube UL ABytesZ': 6573194, 'Netflix DL ABytesZ': 12211149, 'Netflix UL ABytesZ': 974201, 'Gaming DL ABytesZ': 811355188, 'Gaming UL ABytesZ': 1591237, 'Other DL ABytesZ': 64856042, 'Other UL ABytesZ': 12815208, 'Total UL ABytesZ': 22417975, 'Total DL ABytesZ': 850570347})\n"
     ]
    },
    {
     "name": "stderr",
     "output_type": "stream",
     "text": [
      "2022-08-27 09:17:28,757:INFO:sqlalchemy.engine.Engine:[generated in 0.00101s] ({'index': 0, 'Bearer Id': 1.31144834608449e+19, 'Start': '4/4/2019 12:01', 'Start ms': 770, 'End': '4/25/2019 14:35', 'End ms': 662, 'Dur. AmsZ': 1823652, 'IMSI': 208201448079117, 'MSISDN/Number': 33664962239, 'IMEI': 35521209507511, 'Last Location Name': '9.16456699548519E+015', 'Avg RTT DL AmsZ': 42.0, 'Avg RTT UL AmsZ': 5.0, 'Avg Bearer TP DL AkbpsZ': 23, 'Avg Bearer TP UL AkbpsZ': 44, 'TCP DL Retrans. Vol ABytesZ': None, 'TCP UL Retrans. Vol ABytesZ': None, 'DL TP < 50 Kbps APZ': 100, '50 Kbps < DL TP < 250 Kbps APZ': 0, '250 Kbps < DL TP < 1 Mbps APZ': 0, 'DL TP > 1 Mbps APZ': 0, 'UL TP < 10 Kbps APZ': 100, '10 Kbps < UL TP < 50 Kbps APZ': 0, '50 Kbps < UL TP < 300 Kbps APZ': 0, 'UL TP > 300 Kbps APZ': 0, 'HTTP DL ABytesZ': None, 'HTTP UL ABytesZ': None, 'Activity Duration DL AmsZ': 37624, 'Activity Duration UL AmsZ': 38787, 'Dur. AmsZ.1': 1823652892, 'Handset Manufacturer': 'Samsung', 'Handset Type': 'Samsung Galaxy A5 Sm-A520F', 'Nb of sec with 125000B < Vol DL': None, 'Nb of sec with 1250B < Vol UL < 6250B': None, 'Nb of sec with 31250B < Vol DL < 125000B': None, 'Nb of sec with 37500B < Vol UL': None, 'Nb of sec with 6250B < Vol DL < 31250B': None, 'Nb of sec with 6250B < Vol UL < 37500B': None, 'Nb of sec with Vol DL < 6250B': 213, 'Nb of sec with Vol UL < 1250B': 214, 'Social Media DL ABytesZ': 1545765, 'Social Media UL ABytesZ': 24420, 'Google DL ABytesZ': 1634479, 'Google UL ABytesZ': 1271433, 'Email DL ABytesZ': 3563542, 'Email UL ABytesZ': 137762, 'Youtube DL ABytesZ': 15854611, 'Youtube UL ABytesZ': 2501332, 'Netflix DL ABytesZ': 8198936, 'Netflix UL ABytesZ': 9656251, 'Gaming DL ABytesZ': 278082303, 'Gaming UL ABytesZ': 14344150, 'Other DL ABytesZ': 171744450, 'Other UL ABytesZ': 8814393, 'Total UL ABytesZ': 36749741, 'Total DL ABytesZ': 308879636}, {'index': 1, 'Bearer Id': 1.31144834828789e+19, 'Start': '4/9/2019 13:04', 'Start ms': 235, 'End': '4/25/2019 8:15', 'End ms': 606, 'Dur. AmsZ': 1365104, 'IMSI': 208201909211140, 'MSISDN/Number': 33681854413, 'IMEI': 35794009006359, 'Last Location Name': 'L77566A', 'Avg RTT DL AmsZ': 65.0, 'Avg RTT UL AmsZ': 5.0, 'Avg Bearer TP DL AkbpsZ': 16, 'Avg Bearer TP UL AkbpsZ': 26, 'TCP DL Retrans. Vol ABytesZ': None, 'TCP UL Retrans. Vol ABytesZ': None, 'DL TP < 50 Kbps APZ': 100, '50 Kbps < DL TP < 250 Kbps APZ': 0, '250 Kbps < DL TP < 1 Mbps APZ': 0, 'DL TP > 1 Mbps APZ': 0, 'UL TP < 10 Kbps APZ': 100, '10 Kbps < UL TP < 50 Kbps APZ': 0, '50 Kbps < UL TP < 300 Kbps APZ': 0, 'UL TP > 300 Kbps APZ': 0, 'HTTP DL ABytesZ': None, 'HTTP UL ABytesZ': None, 'Activity Duration DL AmsZ': 168, 'Activity Duration UL AmsZ': 3560, 'Dur. AmsZ.1': 1365104371, 'Handset Manufacturer': 'Samsung', 'Handset Type': 'Samsung Galaxy J5 (Sm-J530)', 'Nb of sec with 125000B < Vol DL': None, 'Nb of sec with 1250B < Vol UL < 6250B': None, 'Nb of sec with 31250B < Vol DL < 125000B': None, 'Nb of sec with 37500B < Vol UL': None, 'Nb of sec with 6250B < Vol DL < 31250B': None, 'Nb of sec with 6250B < Vol UL < 37500B': None, 'Nb of sec with Vol DL < 6250B': 971, 'Nb of sec with Vol UL < 1250B': 1022, 'Social Media DL ABytesZ': 1926113, 'Social Media UL ABytesZ': 7165, 'Google DL ABytesZ': 3493924, 'Google UL ABytesZ': 920172, 'Email DL ABytesZ': 629046, 'Email UL ABytesZ': 308339, 'Youtube DL ABytesZ': 20247395, 'Youtube UL ABytesZ': 19111729, 'Netflix DL ABytesZ': 18338413, 'Netflix UL ABytesZ': 17227132, 'Gaming DL ABytesZ': 608750074, 'Gaming UL ABytesZ': 1170709, 'Other DL ABytesZ': 526904238, 'Other UL ABytesZ': 15055145, 'Total UL ABytesZ': 53800391, 'Total DL ABytesZ': 653384965}, {'index': 2, 'Bearer Id': 1.31144834840805e+19, 'Start': '4/9/2019 17:42', 'Start ms': 1, 'End': '4/25/2019 11:58', 'End ms': 652, 'Dur. AmsZ': 1361762, 'IMSI': 208200314458056, 'MSISDN/Number': 33760627129, 'IMEI': 35281510359387, 'Last Location Name': 'D42335A', 'Avg RTT DL AmsZ': None, 'Avg RTT UL AmsZ': None, 'Avg Bearer TP DL AkbpsZ': 6, 'Avg Bearer TP UL AkbpsZ': 9, 'TCP DL Retrans. Vol ABytesZ': None, 'TCP UL Retrans. Vol ABytesZ': None, 'DL TP < 50 Kbps APZ': 100, '50 Kbps < DL TP < 250 Kbps APZ': 0, '250 Kbps < DL TP < 1 Mbps APZ': 0, 'DL TP > 1 Mbps APZ': 0, 'UL TP < 10 Kbps APZ': 100, '10 Kbps < UL TP < 50 Kbps APZ': 0, '50 Kbps < UL TP < 300 Kbps APZ': 0, 'UL TP > 300 Kbps APZ': 0, 'HTTP DL ABytesZ': None, 'HTTP UL ABytesZ': None, 'Activity Duration DL AmsZ': 0, 'Activity Duration UL AmsZ': 0, 'Dur. AmsZ.1': 1361762651, 'Handset Manufacturer': 'Samsung', 'Handset Type': 'Samsung Galaxy A8 (2018)', 'Nb of sec with 125000B < Vol DL': None, 'Nb of sec with 1250B < Vol UL < 6250B': None, 'Nb of sec with 31250B < Vol DL < 125000B': None, 'Nb of sec with 37500B < Vol UL': None, 'Nb of sec with 6250B < Vol DL < 31250B': None, 'Nb of sec with 6250B < Vol UL < 37500B': None, 'Nb of sec with Vol DL < 6250B': 751, 'Nb of sec with Vol UL < 1250B': 695, 'Social Media DL ABytesZ': 1684053, 'Social Media UL ABytesZ': 42224, 'Google DL ABytesZ': 8535055, 'Google UL ABytesZ': 1694064, 'Email DL ABytesZ': 2690151, 'Email UL ABytesZ': 672973, 'Youtube DL ABytesZ': 19725661, 'Youtube UL ABytesZ': 14699576, 'Netflix DL ABytesZ': 17587794, 'Netflix UL ABytesZ': 6163408, 'Gaming DL ABytesZ': 229584621, 'Gaming UL ABytesZ': 395630, 'Other DL ABytesZ': 410692588, 'Other UL ABytesZ': 4215763, 'Total UL ABytesZ': 27883638, 'Total DL ABytesZ': 279807335}, {'index': 3, 'Bearer Id': 1.31144834854428e+19, 'Start': '4/10/2019 0:31', 'Start ms': 486, 'End': '4/25/2019 7:36', 'End ms': 171, 'Dur. AmsZ': 1321509, 'IMSI': 208201402342131, 'MSISDN/Number': 33750343200, 'IMEI': 35356610164913, 'Last Location Name': 'T21824A', 'Avg RTT DL AmsZ': None, 'Avg RTT UL AmsZ': None, 'Avg Bearer TP DL AkbpsZ': 44, 'Avg Bearer TP UL AkbpsZ': 44, 'TCP DL Retrans. Vol ABytesZ': None, 'TCP UL Retrans. Vol ABytesZ': None, 'DL TP < 50 Kbps APZ': 100, '50 Kbps < DL TP < 250 Kbps APZ': 0, '250 Kbps < DL TP < 1 Mbps APZ': 0, 'DL TP > 1 Mbps APZ': 0, 'UL TP < 10 Kbps APZ': 100, '10 Kbps < UL TP < 50 Kbps APZ': 0, '50 Kbps < UL TP < 300 Kbps APZ': 0, 'UL TP > 300 Kbps APZ': 0, 'HTTP DL ABytesZ': None, 'HTTP UL ABytesZ': None, 'Activity Duration DL AmsZ': 3330, 'Activity Duration UL AmsZ': 37882, 'Dur. AmsZ.1': 1321509685, 'Handset Manufacturer': 'undefined', 'Handset Type': 'undefined', 'Nb of sec with 125000B < Vol DL': None, 'Nb of sec with 1250B < Vol UL < 6250B': None, 'Nb of sec with 31250B < Vol DL < 125000B': None, 'Nb of sec with 37500B < Vol UL': None, 'Nb of sec with 6250B < Vol DL < 31250B': None, 'Nb of sec with 6250B < Vol UL < 37500B': None, 'Nb of sec with Vol DL < 6250B': 17, 'Nb of sec with Vol UL < 1250B': 207, 'Social Media DL ABytesZ': 644121, 'Social Media UL ABytesZ': 13372, 'Google DL ABytesZ': 9023734, 'Google UL ABytesZ': 2788027, 'Email DL ABytesZ': 1439754, 'Email UL ABytesZ': 631229, 'Youtube DL ABytesZ': 21388122, 'Youtube UL ABytesZ': 15146643, 'Netflix DL ABytesZ': 13994646, 'Netflix UL ABytesZ': 1097942, 'Gaming DL ABytesZ': 799538153, 'Gaming UL ABytesZ': 10849722, 'Other DL ABytesZ': 749039933, 'Other UL ABytesZ': 12797283, 'Total UL ABytesZ': 43324218, 'Total DL ABytesZ': 846028530}, {'index': 4, 'Bearer Id': 1.31144834994807e+19, 'Start': '4/12/2019 20:10', 'Start ms': 565, 'End': '4/25/2019 10:40', 'End ms': 954, 'Dur. AmsZ': 1089009, 'IMSI': 208201401415120, 'MSISDN/Number': 33699795932, 'IMEI': 35407009745539, 'Last Location Name': 'D88865A', 'Avg RTT DL AmsZ': None, 'Avg RTT UL AmsZ': None, 'Avg Bearer TP DL AkbpsZ': 6, 'Avg Bearer TP UL AkbpsZ': 9, 'TCP DL Retrans. Vol ABytesZ': None, 'TCP UL Retrans. Vol ABytesZ': None, 'DL TP < 50 Kbps APZ': 100, '50 Kbps < DL TP < 250 Kbps APZ': 0, '250 Kbps < DL TP < 1 Mbps APZ': 0, 'DL TP > 1 Mbps APZ': 0, 'UL TP < 10 Kbps APZ': 100, '10 Kbps < UL TP < 50 Kbps APZ': 0, '50 Kbps < UL TP < 300 Kbps APZ': 0, 'UL TP > 300 Kbps APZ': 0, 'HTTP DL ABytesZ': None, 'HTTP UL ABytesZ': None, 'Activity Duration DL AmsZ': 0, 'Activity Duration UL AmsZ': 0, 'Dur. AmsZ.1': 1089009389, 'Handset Manufacturer': 'Samsung', 'Handset Type': 'Samsung Sm-G390F', 'Nb of sec with 125000B < Vol DL': None, 'Nb of sec with 1250B < Vol UL < 6250B': None, 'Nb of sec with 31250B < Vol DL < 125000B': None, 'Nb of sec with 37500B < Vol UL': None, 'Nb of sec with 6250B < Vol DL < 31250B': None, 'Nb of sec with 6250B < Vol UL < 37500B': None, 'Nb of sec with Vol DL < 6250B': 607, 'Nb of sec with Vol UL < 1250B': 604, 'Social Media DL ABytesZ': 862600, 'Social Media UL ABytesZ': 50188, 'Google DL ABytesZ': 6248284, 'Google UL ABytesZ': 1500559, 'Email DL ABytesZ': 1936496, 'Email UL ABytesZ': 173853, 'Youtube DL ABytesZ': 15259380, 'Youtube UL ABytesZ': 18962873, 'Netflix DL ABytesZ': 17124581, 'Netflix UL ABytesZ': 415218, 'Gaming DL ABytesZ': 527707248, 'Gaming UL ABytesZ': 3529801, 'Other DL ABytesZ': 550709500, 'Other UL ABytesZ': 13910322, 'Total UL ABytesZ': 38542814, 'Total DL ABytesZ': 569138589}, {'index': 5, 'Bearer Id': 1.31144834997792e+19, 'Start': '4/12/2019 21:37', 'Start ms': 439, 'End': '4/25/2019 8:08', 'End ms': 553, 'Dur. AmsZ': 1074638, 'IMSI': 208201402670191, 'MSISDN/Number': 33668185951, 'IMEI': 35298410295700, 'Last Location Name': 'T89132C', 'Avg RTT DL AmsZ': None, 'Avg RTT UL AmsZ': None, 'Avg Bearer TP DL AkbpsZ': 70, 'Avg Bearer TP UL AkbpsZ': 54, 'TCP DL Retrans. Vol ABytesZ': None, 'TCP UL Retrans. Vol ABytesZ': None, 'DL TP < 50 Kbps APZ': 100, '50 Kbps < DL TP < 250 Kbps APZ': 0, '250 Kbps < DL TP < 1 Mbps APZ': 0, 'DL TP > 1 Mbps APZ': 0, 'UL TP < 10 Kbps APZ': 100, '10 Kbps < UL TP < 50 Kbps APZ': 0, '50 Kbps < UL TP < 300 Kbps APZ': 0, 'UL TP > 300 Kbps APZ': 0, 'HTTP DL ABytesZ': None, 'HTTP UL ABytesZ': None, 'Activity Duration DL AmsZ': 22639, 'Activity Duration UL AmsZ': 22700, 'Dur. AmsZ.1': 1074638114, 'Handset Manufacturer': 'undefined', 'Handset Type': 'undefined', 'Nb of sec with 125000B < Vol DL': None, 'Nb of sec with 1250B < Vol UL < 6250B': None, 'Nb of sec with 31250B < Vol DL < 125000B': None, 'Nb of sec with 37500B < Vol UL': None, 'Nb of sec with 6250B < Vol DL < 31250B': None, 'Nb of sec with 6250B < Vol UL < 37500B': None, 'Nb of sec with Vol DL < 6250B': 112, 'Nb of sec with Vol UL < 1250B': 118, 'Social Media DL ABytesZ': 3148833, 'Social Media UL ABytesZ': 51181, 'Google DL ABytesZ': 10351530, 'Google UL ABytesZ': 2582603, 'Email DL ABytesZ': 1980032, 'Email UL ABytesZ': 922378, 'Youtube DL ABytesZ': 21332918, 'Youtube UL ABytesZ': 2611113, 'Netflix DL ABytesZ': 7345361, 'Netflix UL ABytesZ': 6536448, 'Gaming DL ABytesZ': 710293538, 'Gaming UL ABytesZ': 13167974, 'Other DL ABytesZ': 654978277, 'Other UL ABytesZ': 4436057, 'Total UL ABytesZ': 30307754, 'Total DL ABytesZ': 754452212}, {'index': 6, 'Bearer Id': 1.31144835012438e+19, 'Start': '4/13/2019 8:41', 'Start ms': 612, 'End': '4/25/2019 8:16', 'End ms': 168, 'Dur. AmsZ': 1035261, 'IMSI': 208201448341047, 'MSISDN/Number': 33665368271, 'IMEI': 86762704322800, 'Last Location Name': '9.16456701058919E+015', 'Avg RTT DL AmsZ': 102.0, 'Avg RTT UL AmsZ': 5.0, 'Avg Bearer TP DL AkbpsZ': 22, 'Avg Bearer TP UL AkbpsZ': 38, 'TCP DL Retrans. Vol ABytesZ': None, 'TCP UL Retrans. Vol ABytesZ': None, 'DL TP < 50 Kbps APZ': 100, '50 Kbps < DL TP < 250 Kbps APZ': 0, '250 Kbps < DL TP < 1 Mbps APZ': 0, 'DL TP > 1 Mbps APZ': 0, 'UL TP < 10 Kbps APZ': 100, '10 Kbps < UL TP < 50 Kbps APZ': 0, '50 Kbps < UL TP < 300 Kbps APZ': 0, 'UL TP > 300 Kbps APZ': 0, 'HTTP DL ABytesZ': None, 'HTTP UL ABytesZ': None, 'Activity Duration DL AmsZ': 9785, 'Activity Duration UL AmsZ': 316210, 'Dur. AmsZ.1': 1035261556, 'Handset Manufacturer': 'Huawei', 'Handset Type': 'Huawei Mate 20 Lite', 'Nb of sec with 125000B < Vol DL': None, 'Nb of sec with 1250B < Vol UL < 6250B': None, 'Nb of sec with 31250B < Vol DL < 125000B': None, 'Nb of sec with 37500B < Vol UL': None, 'Nb of sec with 6250B < Vol DL < 31250B': None, 'Nb of sec with 6250B < Vol UL < 37500B': None, 'Nb of sec with Vol DL < 6250B': 33, 'Nb of sec with Vol UL < 1250B': 655, 'Social Media DL ABytesZ': 1623509, 'Social Media UL ABytesZ': 1482, 'Google DL ABytesZ': 1837897, 'Google UL ABytesZ': 3068975, 'Email DL ABytesZ': 1838947, 'Email UL ABytesZ': 252032, 'Youtube DL ABytesZ': 7234465, 'Youtube UL ABytesZ': 1886295, 'Netflix DL ABytesZ': 13231006, 'Netflix UL ABytesZ': 17981760, 'Gaming DL ABytesZ': 44796223, 'Gaming UL ABytesZ': 14084934, 'Other DL ABytesZ': 803653557, 'Other UL ABytesZ': 10649768, 'Total UL ABytesZ': 47925246, 'Total DL ABytesZ': 70562047}, {'index': 7, 'Bearer Id': 1.30424259108654e+19, 'Start': '4/14/2019 2:11', 'Start ms': 592, 'End': '4/25/2019 2:26', 'End ms': 512, 'Dur. AmsZ': 951292, 'IMSI': 208201009069207, 'MSISDN/Number': 33763490140, 'IMEI': 86546404964017, 'Last Location Name': 'CELL_208_20_520025_1', 'Avg RTT DL AmsZ': 39.0, 'Avg RTT UL AmsZ': 18.0, 'Avg Bearer TP DL AkbpsZ': 3698, 'Avg Bearer TP UL AkbpsZ': 416, 'TCP DL Retrans. Vol ABytesZ': 19520.0, 'TCP UL Retrans. Vol ABytesZ': None, 'DL TP < 50 Kbps APZ': 99, '50 Kbps < DL TP < 250 Kbps APZ': 0, '250 Kbps < DL TP < 1 Mbps APZ': 0, 'DL TP > 1 Mbps APZ': 0, 'UL TP < 10 Kbps APZ': 99, '10 Kbps < UL TP < 50 Kbps APZ': 0, '50 Kbps < UL TP < 300 Kbps APZ': 0, 'UL TP > 300 Kbps APZ': 0, 'HTTP DL ABytesZ': 230583.0, 'HTTP UL ABytesZ': 25427.0, 'Activity Duration DL AmsZ': 70832, 'Activity Duration UL AmsZ': 74477, 'Dur. AmsZ.1': 951292920, 'Handset Manufacturer': 'undefined', 'Handset Type': 'undefined', 'Nb of sec with 125000B < Vol DL': None, 'Nb of sec with 1250B < Vol UL < 6250B': 3.0, 'Nb of sec with 31250B < Vol DL < 125000B': 1.0, 'Nb of sec with 37500B < Vol UL': None, 'Nb of sec with 6250B < Vol DL < 31250B': 2.0, 'Nb of sec with 6250B < Vol UL < 37500B': None, 'Nb of sec with Vol DL < 6250B': 708, 'Nb of sec with Vol UL < 1250B': 666, 'Social Media DL ABytesZ': 3103940, 'Social Media UL ABytesZ': 57463, 'Google DL ABytesZ': 1304524, 'Google UL ABytesZ': 2568189, 'Email DL ABytesZ': 2987408, 'Email UL ABytesZ': 512696, 'Youtube DL ABytesZ': 12189786, 'Youtube UL ABytesZ': 19735183, 'Netflix DL ABytesZ': 6858496, 'Netflix UL ABytesZ': 12075206, 'Gaming DL ABytesZ': 748906189, 'Gaming UL ABytesZ': 16149622, 'Other DL ABytesZ': 537601820, 'Other UL ABytesZ': 7714657, 'Total UL ABytesZ': 58813016, 'Total DL ABytesZ': 775350343}, {'index': 8, 'Bearer Id': 1.31144835064325e+19, 'Start': '4/14/2019 12:48', 'Start ms': 121, 'End': '4/25/2019 10:22', 'End ms': 960, 'Dur. AmsZ': 941634, 'IMSI': 208201448324028, 'MSISDN/Number': 33698743617, 'IMEI': 35562409696153, 'Last Location Name': 'T42084A', 'Avg RTT DL AmsZ': None, 'Avg RTT UL AmsZ': None, 'Avg Bearer TP DL AkbpsZ': 46, 'Avg Bearer TP UL AkbpsZ': 49, 'TCP DL Retrans. Vol ABytesZ': None, 'TCP UL Retrans. Vol ABytesZ': None, 'DL TP < 50 Kbps APZ': 100, '50 Kbps < DL TP < 250 Kbps APZ': 0, '250 Kbps < DL TP < 1 Mbps APZ': 0, 'DL TP > 1 Mbps APZ': 0, 'UL TP < 10 Kbps APZ': 100, '10 Kbps < UL TP < 50 Kbps APZ': 0, '50 Kbps < UL TP < 300 Kbps APZ': 0, 'UL TP > 300 Kbps APZ': 0, 'HTTP DL ABytesZ': None, 'HTTP UL ABytesZ': None, 'Activity Duration DL AmsZ': 162472, 'Activity Duration UL AmsZ': 176488, 'Dur. AmsZ.1': 941634839, 'Handset Manufacturer': 'Samsung', 'Handset Type': 'Samsung Galaxy A8 (2018)', 'Nb of sec with 125000B < Vol DL': None, 'Nb of sec with 1250B < Vol UL < 6250B': None, 'Nb of sec with 31250B < Vol DL < 125000B': None, 'Nb of sec with 37500B < Vol UL': None, 'Nb of sec with 6250B < Vol DL < 31250B': None, 'Nb of sec with 6250B < Vol UL < 37500B': None, 'Nb of sec with Vol DL < 6250B': 794, 'Nb of sec with Vol UL < 1250B': 826, 'Social Media DL ABytesZ': 342043, 'Social Media UL ABytesZ': 30582, 'Google DL ABytesZ': 7560820, 'Google UL ABytesZ': 1341279, 'Email DL ABytesZ': 3014208, 'Email UL ABytesZ': 365861, 'Youtube DL ABytesZ': 18436641, 'Youtube UL ABytesZ': 10860867, 'Netflix DL ABytesZ': 10587264, 'Netflix UL ABytesZ': 8467177, 'Gaming DL ABytesZ': 821671285, 'Gaming UL ABytesZ': 6548349, 'Other DL ABytesZ': 172920486, 'Other UL ABytesZ': 14749031, 'Total UL ABytesZ': 42363146, 'Total DL ABytesZ': 861612261}, {'index': 9, 'Bearer Id': 1.30424259146693e+19, 'Start': '4/15/2019 0:32', 'Start ms': 0, 'End': '4/25/2019 0:40', 'End ms': 284, 'Dur. AmsZ': 864482, 'IMSI': 208200314385130, 'MSISDN/Number': 33659219748, 'IMEI': 35573109931422, 'Last Location Name': 'L20434C', 'Avg RTT DL AmsZ': 97.0, 'Avg RTT UL AmsZ': 7.0, 'Avg Bearer TP DL AkbpsZ': 3845, 'Avg Bearer TP UL AkbpsZ': 2535, 'TCP DL Retrans. Vol ABytesZ': 3231397.0, 'TCP UL Retrans. Vol ABytesZ': 7230.0, 'DL TP < 50 Kbps APZ': 70, '50 Kbps < DL TP < 250 Kbps APZ': 26, '250 Kbps < DL TP < 1 Mbps APZ': 2, 'DL TP > 1 Mbps APZ': 0, 'UL TP < 10 Kbps APZ': 99, '10 Kbps < UL TP < 50 Kbps APZ': 0, '50 Kbps < UL TP < 300 Kbps APZ': 0, 'UL TP > 300 Kbps APZ': 0, 'HTTP DL ABytesZ': 132246.0, 'HTTP UL ABytesZ': 32449.0, 'Activity Duration DL AmsZ': 1537874, 'Activity Duration UL AmsZ': 1542046, 'Dur. AmsZ.1': 864482284, 'Handset Manufacturer': 'Samsung', 'Handset Type': 'Samsung Galaxy Note 8 (Sm-N950F Ds)', 'Nb of sec with 125000B < Vol DL': None, 'Nb of sec with 1250B < Vol UL < 6250B': 14.0, 'Nb of sec with 31250B < Vol DL < 125000B': 165.0, 'Nb of sec with 37500B < Vol UL': None, 'Nb of sec with 6250B < Vol DL < 31250B': 1665.0, 'Nb of sec with 6250B < Vol UL < 37500B': 4.0, 'Nb of sec with Vol DL < 6250B': 4421, 'Nb of sec with Vol UL < 1250B': 6344, 'Social Media DL ABytesZ': 1541259, 'Social Media UL ABytesZ': 44154, 'Google DL ABytesZ': 8601949, 'Google UL ABytesZ': 176392, 'Email DL ABytesZ': 522457, 'Email UL ABytesZ': 243589, 'Youtube DL ABytesZ': 16338345, 'Youtube UL ABytesZ': 6573194, 'Netflix DL ABytesZ': 12211149, 'Netflix UL ABytesZ': 974201, 'Gaming DL ABytesZ': 811355188, 'Gaming UL ABytesZ': 1591237, 'Other DL ABytesZ': 64856042, 'Other UL ABytesZ': 12815208, 'Total UL ABytesZ': 22417975, 'Total DL ABytesZ': 850570347})\n"
     ]
    },
    {
     "name": "stdout",
     "output_type": "stream",
     "text": [
      "2022-08-27 09:17:28,760 INFO sqlalchemy.engine.Engine COMMIT\n"
     ]
    },
    {
     "name": "stderr",
     "output_type": "stream",
     "text": [
      "2022-08-27 09:17:28,760:INFO:sqlalchemy.engine.Engine:COMMIT\n"
     ]
    },
    {
     "name": "stdout",
     "output_type": "stream",
     "text": [
      "2022-08-27 09:17:28,764 INFO sqlalchemy.engine.Engine SHOW FULL TABLES FROM `telecomdata`\n"
     ]
    },
    {
     "name": "stderr",
     "output_type": "stream",
     "text": [
      "2022-08-27 09:17:28,764:INFO:sqlalchemy.engine.Engine:SHOW FULL TABLES FROM `telecomdata`\n"
     ]
    },
    {
     "name": "stdout",
     "output_type": "stream",
     "text": [
      "2022-08-27 09:17:28,765 INFO sqlalchemy.engine.Engine [raw sql] {}\n"
     ]
    },
    {
     "name": "stderr",
     "output_type": "stream",
     "text": [
      "2022-08-27 09:17:28,765:INFO:sqlalchemy.engine.Engine:[raw sql] {}\n"
     ]
    },
    {
     "data": {
      "text/plain": [
       "10"
      ]
     },
     "execution_count": 10,
     "metadata": {},
     "output_type": "execute_result"
    }
   ],
   "source": [
    "raw_df.to_sql('Telecom_Data',con = engine)"
   ]
  },
  {
   "cell_type": "code",
   "execution_count": 12,
   "id": "84e6088c",
   "metadata": {},
   "outputs": [
    {
     "name": "stdout",
     "output_type": "stream",
     "text": [
      "2022-08-27 09:18:45,705 INFO sqlalchemy.engine.Engine SELECT * FROM Telecom_Data\n"
     ]
    },
    {
     "name": "stderr",
     "output_type": "stream",
     "text": [
      "2022-08-27 09:18:45,705:INFO:sqlalchemy.engine.Engine:SELECT * FROM Telecom_Data\n"
     ]
    },
    {
     "name": "stdout",
     "output_type": "stream",
     "text": [
      "2022-08-27 09:18:45,707 INFO sqlalchemy.engine.Engine [raw sql] {}\n"
     ]
    },
    {
     "name": "stderr",
     "output_type": "stream",
     "text": [
      "2022-08-27 09:18:45,707:INFO:sqlalchemy.engine.Engine:[raw sql] {}\n"
     ]
    },
    {
     "name": "stdout",
     "output_type": "stream",
     "text": [
      "[(0, 1.31144834608449e+19, '4/4/2019 12:01', 770, '4/25/2019 14:35', 662, 1823652, 208201448079117, 33664962239, 35521209507511, '9.16456699548519E+015', 42.0, 5.0, 23, 44, None, None, 100, 0, 0, 0, 100, 0, 0, 0, None, None, 37624, 38787, 1823652892, 'Samsung', 'Samsung Galaxy A5 Sm-A520F', None, None, None, None, None, None, 213, 214, 1545765, 24420, 1634479, 1271433, 3563542, 137762, 15854611, 2501332, 8198936, 9656251, 278082303, 14344150, 171744450, 8814393, 36749741, 308879636), (1, 1.31144834828789e+19, '4/9/2019 13:04', 235, '4/25/2019 8:15', 606, 1365104, 208201909211140, 33681854413, 35794009006359, 'L77566A', 65.0, 5.0, 16, 26, None, None, 100, 0, 0, 0, 100, 0, 0, 0, None, None, 168, 3560, 1365104371, 'Samsung', 'Samsung Galaxy J5 (Sm-J530)', None, None, None, None, None, None, 971, 1022, 1926113, 7165, 3493924, 920172, 629046, 308339, 20247395, 19111729, 18338413, 17227132, 608750074, 1170709, 526904238, 15055145, 53800391, 653384965), (2, 1.31144834840805e+19, '4/9/2019 17:42', 1, '4/25/2019 11:58', 652, 1361762, 208200314458056, 33760627129, 35281510359387, 'D42335A', None, None, 6, 9, None, None, 100, 0, 0, 0, 100, 0, 0, 0, None, None, 0, 0, 1361762651, 'Samsung', 'Samsung Galaxy A8 (2018)', None, None, None, None, None, None, 751, 695, 1684053, 42224, 8535055, 1694064, 2690151, 672973, 19725661, 14699576, 17587794, 6163408, 229584621, 395630, 410692588, 4215763, 27883638, 279807335), (3, 1.31144834854428e+19, '4/10/2019 0:31', 486, '4/25/2019 7:36', 171, 1321509, 208201402342131, 33750343200, 35356610164913, 'T21824A', None, None, 44, 44, None, None, 100, 0, 0, 0, 100, 0, 0, 0, None, None, 3330, 37882, 1321509685, 'undefined', 'undefined', None, None, None, None, None, None, 17, 207, 644121, 13372, 9023734, 2788027, 1439754, 631229, 21388122, 15146643, 13994646, 1097942, 799538153, 10849722, 749039933, 12797283, 43324218, 846028530), (4, 1.31144834994807e+19, '4/12/2019 20:10', 565, '4/25/2019 10:40', 954, 1089009, 208201401415120, 33699795932, 35407009745539, 'D88865A', None, None, 6, 9, None, None, 100, 0, 0, 0, 100, 0, 0, 0, None, None, 0, 0, 1089009389, 'Samsung', 'Samsung Sm-G390F', None, None, None, None, None, None, 607, 604, 862600, 50188, 6248284, 1500559, 1936496, 173853, 15259380, 18962873, 17124581, 415218, 527707248, 3529801, 550709500, 13910322, 38542814, 569138589), (5, 1.31144834997792e+19, '4/12/2019 21:37', 439, '4/25/2019 8:08', 553, 1074638, 208201402670191, 33668185951, 35298410295700, 'T89132C', None, None, 70, 54, None, None, 100, 0, 0, 0, 100, 0, 0, 0, None, None, 22639, 22700, 1074638114, 'undefined', 'undefined', None, None, None, None, None, None, 112, 118, 3148833, 51181, 10351530, 2582603, 1980032, 922378, 21332918, 2611113, 7345361, 6536448, 710293538, 13167974, 654978277, 4436057, 30307754, 754452212), (6, 1.31144835012438e+19, '4/13/2019 8:41', 612, '4/25/2019 8:16', 168, 1035261, 208201448341047, 33665368271, 86762704322800, '9.16456701058919E+015', 102.0, 5.0, 22, 38, None, None, 100, 0, 0, 0, 100, 0, 0, 0, None, None, 9785, 316210, 1035261556, 'Huawei', 'Huawei Mate 20 Lite', None, None, None, None, None, None, 33, 655, 1623509, 1482, 1837897, 3068975, 1838947, 252032, 7234465, 1886295, 13231006, 17981760, 44796223, 14084934, 803653557, 10649768, 47925246, 70562047), (7, 1.30424259108654e+19, '4/14/2019 2:11', 592, '4/25/2019 2:26', 512, 951292, 208201009069207, 33763490140, 86546404964017, 'CELL_208_20_520025_1', 39.0, 18.0, 3698, 416, 19520.0, None, 99, 0, 0, 0, 99, 0, 0, 0, 230583.0, 25427.0, 70832, 74477, 951292920, 'undefined', 'undefined', None, 3.0, 1.0, None, 2.0, None, 708, 666, 3103940, 57463, 1304524, 2568189, 2987408, 512696, 12189786, 19735183, 6858496, 12075206, 748906189, 16149622, 537601820, 7714657, 58813016, 775350343), (8, 1.31144835064325e+19, '4/14/2019 12:48', 121, '4/25/2019 10:22', 960, 941634, 208201448324028, 33698743617, 35562409696153, 'T42084A', None, None, 46, 49, None, None, 100, 0, 0, 0, 100, 0, 0, 0, None, None, 162472, 176488, 941634839, 'Samsung', 'Samsung Galaxy A8 (2018)', None, None, None, None, None, None, 794, 826, 342043, 30582, 7560820, 1341279, 3014208, 365861, 18436641, 10860867, 10587264, 8467177, 821671285, 6548349, 172920486, 14749031, 42363146, 861612261), (9, 1.30424259146693e+19, '4/15/2019 0:32', 0, '4/25/2019 0:40', 284, 864482, 208200314385130, 33659219748, 35573109931422, 'L20434C', 97.0, 7.0, 3845, 2535, 3231397.0, 7230.0, 70, 26, 2, 0, 99, 0, 0, 0, 132246.0, 32449.0, 1537874, 1542046, 864482284, 'Samsung', 'Samsung Galaxy Note 8 (Sm-N950F Ds)', None, 14.0, 165.0, None, 1665.0, 4.0, 4421, 6344, 1541259, 44154, 8601949, 176392, 522457, 243589, 16338345, 6573194, 12211149, 974201, 811355188, 1591237, 64856042, 12815208, 22417975, 850570347)]\n"
     ]
    }
   ],
   "source": [
    "print(engine.execute(\"SELECT * FROM Telecom_Data\").fetchall())"
   ]
  },
  {
   "cell_type": "code",
   "execution_count": null,
   "id": "3e676bfc",
   "metadata": {},
   "outputs": [],
   "source": []
  }
 ],
 "metadata": {
  "kernelspec": {
   "display_name": "Python 3 (ipykernel)",
   "language": "python",
   "name": "python3"
  },
  "language_info": {
   "codemirror_mode": {
    "name": "ipython",
    "version": 3
   },
   "file_extension": ".py",
   "mimetype": "text/x-python",
   "name": "python",
   "nbconvert_exporter": "python",
   "pygments_lexer": "ipython3",
   "version": "3.10.4"
  }
 },
 "nbformat": 4,
 "nbformat_minor": 5
}
